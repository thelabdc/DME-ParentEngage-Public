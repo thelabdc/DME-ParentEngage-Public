{
 "cells": [
  {
   "cell_type": "code",
   "execution_count": null,
   "metadata": {},
   "outputs": [],
   "source": [
    "import sys\n",
    "sys.path.append('..')\n",
    "\n",
    "import copy\n",
    "import os\n",
    "from datetime import datetime\n",
    "\n",
    "import geopandas as gpd\n",
    "import numpy as np\n",
    "import pandas as pd\n",
    "#import pyodbc\n",
    "\n",
    "## database or file operator\n",
    "import psycopg2\n",
    "\n",
    "from sshtunnel import SSHTunnelForwarder\n",
    "import yaml\n",
    "import sqlalchemy\n",
    "from sqlalchemy import *\n",
    "from sqlalchemy.types import *\n",
    "import sqlalchemy.types as sql_types\n",
    "\n",
    "## plotting\n",
    "import plotnine\n",
    "from plotnine import *\n",
    "\n",
    "## merging assistance\n",
    "import re\n",
    "\n",
    "## output\n",
    "from IPython.core.interactiveshell import InteractiveShell\n",
    "InteractiveShell.ast_node_interactivity = \"all\"\n",
    "pd.set_option('display.max_columns', None)  # or 1000\n",
    "pd.set_option('display.max_rows', None)  # or 1000\n",
    "pd.set_option('display.max_colwidth', -1) \n",
    "\n",
    "## background\n",
    "standard_background = theme(panel_background = element_blank(),   \n",
    "       panel_grid_major_y = element_blank(),\n",
    "      axis_text_x = element_text(color = \"black\", hjust = 1, size = 12),\n",
    "      axis_text_y = element_text(color = \"black\", size = 12),\n",
    "    legend_text = element_text(color = 'black', size = 10),\n",
    "    legend_title = element_text(color = 'black', size = 12),\n",
    "      axis_title=element_text(size=12),\n",
    "    strip_text_x = element_text(size = 12),\n",
    "    legend_background = element_blank(),\n",
    "    legend_key = element_blank(),\n",
    "    panel_grid_major = element_blank(), \n",
    "    panel_grid_minor = element_blank(),\n",
    "     axis_ticks=element_blank())\n"
   ]
  },
  {
   "cell_type": "markdown",
   "metadata": {},
   "source": [
    "#  0: define postgres functions\n",
    "\n",
    "For now, just copied postgres functions from other script before making into a module"
   ]
  },
  {
   "cell_type": "code",
   "execution_count": null,
   "metadata": {},
   "outputs": [],
   "source": [
    "def load_creds_file(name_and_path_creds_file):\n",
    "    \n",
    "    with open(name_and_path_creds_file,'r') as stream: \n",
    "        creds_dict = yaml.load(stream)\n",
    "        \n",
    "    return(creds_dict) \n",
    "\n",
    "\n",
    "def start_sshtunnel(creds, port_number):\n",
    "    tunnel = SSHTunnelForwarder(\n",
    "    ('10.56.6.66', 22),\n",
    "    ssh_username= creds['osse_ssh_tunnel']['ssh_username'],\n",
    "    ssh_private_key= creds['osse_ssh_tunnel']['pathname_privatekey'],\n",
    "    remote_bind_address=('localhost', 5432),\n",
    "    local_bind_address=('localhost',port_number), # could be any available port\n",
    "    )\n",
    "    return(tunnel)\n",
    "    \n",
    "\n",
    "## Functions for working with postgres\n",
    "def startengine_psy(creds, tunnel):\n",
    "    connection = psycopg2.connect(dbname= creds['osse_database']['dbname'],\n",
    "    user=  creds['osse_database']['user'],\n",
    "    password= creds['osse_database']['password'],\n",
    "    host=tunnel.local_bind_host,\n",
    "    port=tunnel.local_bind_port,)\n",
    "    return(connection)\n",
    "\n",
    "\n",
    "## function for starting an alchemy connection\n",
    "def startengine_alchemy(creds, tunnel):\n",
    "    engine_string = \"postgresql://{user}:{password}@{host}:{port}/{db}\".format(user = creds['osse_database']['user'],\n",
    "                        password = creds['osse_database']['password'],\n",
    "                        host = tunnel.local_bind_host,\n",
    "                        port = tunnel.local_bind_port,\n",
    "                        db =  creds['osse_database']['dbname'])\n",
    "    engine = create_engine(engine_string)\n",
    "    alchemy_connection = engine.connect()\n",
    "    return(alchemy_connection)"
   ]
  },
  {
   "cell_type": "markdown",
   "metadata": {},
   "source": [
    "# 1. Open connection with database"
   ]
  },
  {
   "cell_type": "code",
   "execution_count": null,
   "metadata": {},
   "outputs": [],
   "source": [
    "attend_data = pd.read_csv(\"../data/attendance_indiv_data.csv\")\n"
   ]
  },
  {
   "cell_type": "code",
   "execution_count": null,
   "metadata": {},
   "outputs": [],
   "source": [
    "## load creds and start alchemy connection\n",
    "creds = load_creds_file(\"/home/jovyan/work/creds/creds_osse.yaml\")\n",
    "## start an ssh tunnel\n",
    "tunnel = start_sshtunnel(creds, port_number = 7015)\n",
    "tunnel.start()\n"
   ]
  },
  {
   "cell_type": "code",
   "execution_count": null,
   "metadata": {},
   "outputs": [],
   "source": [
    "## create alchemy connection\n",
    "alchemy_connection = startengine_alchemy(creds, tunnel)"
   ]
  },
  {
   "cell_type": "markdown",
   "metadata": {},
   "source": [
    "# 2. Read in relevant attendance data (at student-level)"
   ]
  },
  {
   "cell_type": "code",
   "execution_count": null,
   "metadata": {},
   "outputs": [],
   "source": [
    "dcps_attend_query = \"\"\"\n",
    "select usi, \"Enr_SchoolName\",\n",
    "firstname, lastname, dateofbirth, \n",
    "gender, race, \"LEPIndicator\", \"GradeLevel\",\n",
    "\"HomelessIndicatorOSSE\", \"AtRiskIndicator\", \"FarmsStatusSISdesc\",\n",
    "sum(case when \"AttendanceStatusCode\" ='PF' then 1 else 0 end) as present_days,\n",
    "count(\"AttendanceStatusCode\") as membership_days,\n",
    "sum(case when \"Attendance_Status_Desc\" in ('Absent Excused Suspension', \n",
    "'Absent Fully Unexcused') then 1 else 0 end) as total_excusedorunexcused\n",
    "from dcps_sy1718\n",
    "where  \"AttendanceStatusCode\" !='NSD'\n",
    "and \"Enr_SchoolName\" in ('Anacostia High School', \n",
    "                'Columbia Heights Education Campus', \n",
    "            'Dunbar High School')\n",
    "and \"AttendanceDate\" between '2017-10-01' and '2018-01-20'\n",
    "and dateofbirth between '1998-10-1 00:00:00' AND '2011-09-30 23:59:59'\n",
    "group by usi, \"Enr_SchoolName\",\n",
    "firstname, lastname, dateofbirth, gender, race, \n",
    "\"LEPIndicator\", \"GradeLevel\", \"HomelessIndicatorOSSE\", \"AtRiskIndicator\", \"FarmsStatusSISdesc\";\n",
    "\"\"\""
   ]
  },
  {
   "cell_type": "code",
   "execution_count": null,
   "metadata": {},
   "outputs": [],
   "source": [
    "dcps_attend_df = pd.read_sql_query(dcps_attend_query, alchemy_connection)\n"
   ]
  },
  {
   "cell_type": "code",
   "execution_count": null,
   "metadata": {},
   "outputs": [],
   "source": [
    "pcs_attend_query = \"\"\"\n",
    "select usi, \"Enr_SchoolName\",\n",
    "firstname, lastname, dateofbirth, \n",
    "gender, race, \"LEPIndicator\", \"GradeLevel\",\n",
    "\"HomelessIndicatorOSSE\", \"AtRiskIndicator\", \"FarmsStatusSISdesc\",\n",
    "sum(case when \"AttendanceStatusCode\" ='PF' or \"AttendanceStatusCode\" ='PPE' or \"AttendanceStatusCode\" ='PIS'or \"AttendanceStatusCode\" ='PPU' \n",
    "\t\tthen 1 else 0 end) as present_days,\n",
    "count(\"AttendanceStatusCode\") as membership_days,\n",
    "sum(case when \"Attendance_Status_Desc\" in ('Absent Fully Unexcused',\n",
    "'Absent Partial Unexcused', \n",
    "'Absent Fully Excused',\n",
    "'Absent Partial Excused') then 1 else 0 end)  as total_excusedorunexcused\n",
    "from charter_sy1718\n",
    "where  \"AttendanceStatusCode\" !='NSD'\n",
    "and \"Enr_SchoolName\" in ('Friendship PCS - Collegiate Academy', \n",
    "                        'Paul PCS - International High School',\n",
    "            'Paul PCS - Middle School')\n",
    "and \"AttendanceDate\" between '2017-10-01' and '2018-01-20'\n",
    "and dateofbirth between '1998-10-1 00:00:00' AND '2011-09-30 23:59:59'\n",
    "group by usi, \"Enr_SchoolName\",\n",
    "firstname, lastname, dateofbirth, gender, race, \n",
    "\"LEPIndicator\", \"GradeLevel\", \"HomelessIndicatorOSSE\", \"AtRiskIndicator\", \"FarmsStatusSISdesc\"\n",
    "\"\"\""
   ]
  },
  {
   "cell_type": "code",
   "execution_count": null,
   "metadata": {},
   "outputs": [],
   "source": [
    "pcs_attend_df = pd.read_sql_query(pcs_attend_query, alchemy_connection)"
   ]
  },
  {
   "cell_type": "code",
   "execution_count": null,
   "metadata": {},
   "outputs": [],
   "source": [
    "attend_df = pd.concat([dcps_attend_df, pcs_attend_df])\n"
   ]
  },
  {
   "cell_type": "code",
   "execution_count": null,
   "metadata": {},
   "outputs": [],
   "source": [
    "attend_df.head()"
   ]
  },
  {
   "cell_type": "markdown",
   "metadata": {},
   "source": [
    "# 3. Rate across sample and by school"
   ]
  },
  {
   "cell_type": "code",
   "execution_count": null,
   "metadata": {},
   "outputs": [],
   "source": [
    "\n",
    "attend_df['studentlevel_isa'] = attend_df.present_days/attend_df.membership_days\n"
   ]
  },
  {
   "cell_type": "code",
   "execution_count": null,
   "metadata": {},
   "outputs": [],
   "source": [
    "attend_df['studentlevel_ca'] = np.where(attend_df.total_excusedorunexcused/attend_df.membership_days >= 0.1, 1, 0)"
   ]
  },
  {
   "cell_type": "code",
   "execution_count": null,
   "metadata": {},
   "outputs": [],
   "source": [
    "attend_df.Enr_SchoolName.value_counts()"
   ]
  },
  {
   "cell_type": "code",
   "execution_count": null,
   "metadata": {},
   "outputs": [],
   "source": [
    "## subset to relevant grades\n",
    "## Dunbar only 9th grade\n",
    "## Friendship only 9th and 10th\n",
    "attend_df_analytic = attend_df.loc[(~attend_df.Enr_SchoolName.isin([\"Dunbar High School\", \"Friendship PCS - Collegiate Academy\"])) |\n",
    "                                ((attend_df.Enr_SchoolName == \"Dunbar High School\") & \n",
    "                                (attend_df.GradeLevel == \"09\")) |\n",
    "                                ((attend_df.Enr_SchoolName == \"Friendship PCS - Collegiate Academy\") & \n",
    "                                (attend_df.GradeLevel.isin([\"9\", \"10\"])))].copy()\n",
    "\n"
   ]
  },
  {
   "cell_type": "code",
   "execution_count": null,
   "metadata": {},
   "outputs": [],
   "source": [
    "## create aggregation for beau\n",
    "## for each school, sum: 1) present days, 2) membership days\n",
    "## to create ISA; total absences over membership days is used for \n",
    "## chronic absenteeism\n",
    "attend_df_analytic_byschool = attend_df_analytic.groupby('Enr_SchoolName').agg({'present_days': np.sum,\n",
    "                                                                               'membership_days': np.sum,\n",
    "                                                                               'total_excusedorunexcused': np.sum,\n",
    "                                                                               'usi': lambda x: x.nunique()}).reset_index()\n",
    "attend_df_analytic_byschool.columns = ['school', 'schooldays_present', 'schooldays_total',\n",
    "                                      'schooldays_absent', 'n_students']\n",
    "attend_df_analytic_byschool.head()\n",
    "\n",
    "attend_df_analytic_byschool.to_csv(\"../data/attendance_aggregated_schoolevel.csv\",\n",
    "                                  index = False)"
   ]
  },
  {
   "cell_type": "code",
   "execution_count": null,
   "metadata": {},
   "outputs": [],
   "source": [
    "attend_df_analytic[attend_df_analytic.Enr_SchoolName == \"District of Columbia International School\"].describe()"
   ]
  },
  {
   "cell_type": "code",
   "execution_count": null,
   "metadata": {},
   "outputs": [],
   "source": [
    "attend_df_analytic.GradeLevel.value_counts()"
   ]
  },
  {
   "cell_type": "code",
   "execution_count": null,
   "metadata": {},
   "outputs": [],
   "source": [
    "## create two separate ones for check\n",
    "attend_df_analytic['schoolname_toanonymize'] = np.where((attend_df_analytic.Enr_SchoolName == \"Columbia Heights Education Campus\") &\n",
    "                                                       (attend_df_analytic.GradeLevel.isin(['06', \n",
    "                                                        '07', '08'])),\n",
    "                                                       'CHEC MS',\n",
    "                                            np.where((attend_df_analytic.Enr_SchoolName == \"Columbia Heights Education Campus\") &\n",
    "                                                       (attend_df_analytic.GradeLevel.isin(['09', \n",
    "                                                        '10', '11', '12'])),\n",
    "                                                       'CHEC HS',\n",
    "                                                    attend_df_analytic.Enr_SchoolName))\n",
    "\n",
    "attend_df_analytic.loc[attend_df_analytic.schoolname_toanonymize == \"Columbia Heights Education Campus\"].head()\n",
    "\n",
    "## exclude DCI and ungraded students\n",
    "attend_df_analytic_final = attend_df_analytic.loc[(attend_df_analytic.GradeLevel.isin(['06', \n",
    "                                                        '07', '08', '09', '10', '11', '12'])) &\n",
    "                                                 (attend_df_analytic.Enr_SchoolName != \"District of Columbia International School\")].copy()"
   ]
  },
  {
   "cell_type": "code",
   "execution_count": null,
   "metadata": {},
   "outputs": [],
   "source": [
    "attend_df_analytic_final.describe()\n",
    "\n",
    "## anonymize schools\n",
    "school_anon_dict = {\"CHEC HS\": \"School B (DCPS; 9-12)\", \n",
    "                    \"CHEC MS\": \"School B (DCPS; 6-8)\", \n",
    "     \"Friendship PCS - Collegiate Academy\": \"School D (PCS; 9-10)\",\n",
    "     \"Paul PCS - International High School\": \"School E (PCS; 9-12)\",\n",
    "     \"Paul PCS - Middle School\": \"School E (PCS; 6-8)\",\n",
    "     \"Anacostia High School\": \"School A (DCPS; 9-12)\",\n",
    "     \"Dunbar High School\": \"School C (DCPS; 9)\"}\n",
    "\n",
    "attend_df_analytic_final['school_anon'] = attend_df_analytic_final.schoolname_toanonymize.replace(school_anon_dict,\n",
    "                                                                             inplace = False)\n",
    "\n",
    "n_perschool = attend_df_analytic_final.groupby('school_anon').agg({'usi': lambda x: x.nunique()})\n",
    "n_perschool"
   ]
  },
  {
   "cell_type": "markdown",
   "metadata": {},
   "source": [
    "### Demographics for PAA abstract"
   ]
  },
  {
   "cell_type": "code",
   "execution_count": null,
   "metadata": {},
   "outputs": [],
   "source": [
    "def efficient_crosstabs(attribute_varname, grouping_varname, data):\n",
    "    \n",
    "    ## create one cross tab\n",
    "    one_crosstab = pd.crosstab(data[attribute_varname],\n",
    "                  data[grouping_varname],\n",
    "                  normalize = \"columns\")\n",
    "    \n",
    "    ## add variable name as a col\n",
    "    one_crosstab['variable_name'] = attribute_varname\n",
    "    one_crosstab_transp = one_crosstab.T\n",
    "    return(one_crosstab_transp)\n",
    "    "
   ]
  },
  {
   "cell_type": "code",
   "execution_count": null,
   "metadata": {},
   "outputs": [],
   "source": [
    "attend_df_analytic_final.columns"
   ]
  },
  {
   "cell_type": "code",
   "execution_count": null,
   "metadata": {},
   "outputs": [],
   "source": [
    "race_remap_dictionary = {'B': \"Black\", 'BL': \"Black\",\n",
    "                        'HI': 'Hispanic', 'H': 'Hispanic',\n",
    "                        'WH': 'White', 'W': 'White'}\n",
    "attend_df_analytic_final['race_nows'] = attend_df_analytic_final.race.str.strip()\n",
    "attend_df_analytic_final['race_broadercat_init'] = attend_df_analytic_final.race_nows.replace(race_remap_dictionary, inplace = False)\n",
    "attend_df_analytic_final['race_broadercat'] = np.where(~attend_df_analytic_final.race_broadercat_init.isin(['White',\n",
    "                                                    'Black', 'Hispanic']), \n",
    "                                                    'Other',\n",
    "                                                    attend_df_analytic_final.race_broadercat_init)"
   ]
  },
  {
   "cell_type": "code",
   "execution_count": null,
   "metadata": {},
   "outputs": [],
   "source": [
    "vars_tocross = ['AtRiskIndicator', 'HomelessIndicatorOSSE', 'LEPIndicator', 'FarmsStatusSISdesc', 'race_broadercat']\n",
    "att_crosstabs = [efficient_crosstabs(var, 'school_anon', attend_df_analytic_final) for \n",
    "                var in vars_tocross]\n",
    "\n",
    "att_crosstabs"
   ]
  },
  {
   "cell_type": "code",
   "execution_count": null,
   "metadata": {},
   "outputs": [],
   "source": [
    "## rowbind\n",
    "att_crosstabs_one = pd.concat(att_crosstabs, axis = 1)\n",
    "att_crosstabs_one_columns = att_crosstabs_one.iloc[att_crosstabs_one.shape[0]-1]\n",
    "att_crosstabs_one_toadd = att_crosstabs_one.iloc[0:att_crosstabs_one.shape[0]-2]\n",
    "att_crosstabs_one_cols = [str(col).lower() for col in att_crosstabs_one.columns]\n",
    "new_colnames = [a + \": \" + b for a, b in zip(att_crosstabs_one_columns, att_crosstabs_one_cols)]\n",
    "att_crosstabs_one_toadd.columns = new_colnames\n",
    "att_crosstabs_one_toadd[new_colnames] = att_crosstabs_one_toadd[new_colnames].apply(pd.to_numeric, errors = 'coerce')\n",
    "att_crosstabs_one_toadd['school'] = att_crosstabs_one_toadd.index\n",
    "att_crosstabs_one.head()"
   ]
  },
  {
   "cell_type": "code",
   "execution_count": null,
   "metadata": {},
   "outputs": [],
   "source": [
    "## merge the size\n",
    "att_forgraph = pd.merge(att_crosstabs_one_toadd,\n",
    "                       n_perschool, \n",
    "                       left_on = 'school',\n",
    "                       right_on = 'school_anon',\n",
    "                       how = 'left')\n",
    "att_forgraph"
   ]
  },
  {
   "cell_type": "code",
   "execution_count": null,
   "metadata": {},
   "outputs": [],
   "source": [
    "## choose a few cols\n",
    "cols_toshow = ['AtRiskIndicator: true', 'HomelessIndicatorOSSE: yes',\n",
    "              'race_broadercat: black',\n",
    "              'race_broadercat: hispanic',\n",
    "              'LEPIndicator: true',\n",
    "              'school', 'usi']\n",
    "att_forgraph_long = pd.melt(att_forgraph[cols_toshow],\n",
    "                           id_vars = ['school', 'usi', 'AtRiskIndicator: true'])\n",
    "att_forgraph_long.head()\n",
    "att_forgraph_long['var_descriptive'] = att_forgraph_long.variable.replace({'HomelessIndicatorOSSE: yes': 'Experiencing Homelessness',\n",
    "                                                                 'race_broadercat: black': 'Black',\n",
    "                                                                 'race_broadercat: hispanic': 'Hispanic',\n",
    "                                                                 'LEPIndicator: true': 'Limited English Proficiency'},\n",
    "                                                                    inplace = False)\n",
    "\n",
    "att_graph = (ggplot(att_forgraph_long, aes(x = 'AtRiskIndicator: true', \n",
    "                              y = 'value', \n",
    "                              fill = 'factor(school)')) +\n",
    "geom_point(size = 4, color = 'black') +\n",
    "facet_wrap('~var_descriptive, scales = free') +\n",
    "standard_background +\n",
    "xlab('Proportion of students with at-risk poverty indicator') +\n",
    "ylab('Proportion of students with other attribute') +\n",
    "labs(fill = \"School\") +\n",
    "scale_fill_brewer(palette = 'Reds'))\n",
    "\n",
    "ggsave(att_graph,\n",
    "       \"../output/attributes_comparison.pdf\",\n",
    "      device = \"pdf\",\n",
    "      width = 12,\n",
    "      height = 8)"
   ]
  },
  {
   "cell_type": "code",
   "execution_count": null,
   "metadata": {},
   "outputs": [],
   "source": [
    "(ggplot(att_forgraph, aes(x = 'AtRiskIndicator: true', y = 'HomelessIndicatorOSSE: yes',\n",
    "                         color = 'AtRiskIndicator: true')) +\n",
    "geom_point(aes(size = 'usi')) +\n",
    "xlim(0, 1) +\n",
    "ylim(0, 0.15) +\n",
    "xlab(\"Proportion of students\\nwith at-risk poverty indicator\") +\n",
    "ylab(\"Proportion of students\\nexperiencing homelessness\") +\n",
    "standard_background +\n",
    "guides(color = False) +\n",
    "labs(size = \"N students\\nin school\") +\n",
    "theme(legend_position = (0.3, 0.7) ))\n",
    "\n",
    "## save as pdf"
   ]
  },
  {
   "cell_type": "code",
   "execution_count": null,
   "metadata": {},
   "outputs": [],
   "source": [
    "att_crosstabs_long = pd.melt(att_crosstabs_one_toadd, id_vars='school')\n",
    "att_crosstabs_long"
   ]
  },
  {
   "cell_type": "code",
   "execution_count": null,
   "metadata": {},
   "outputs": [],
   "source": []
  },
  {
   "cell_type": "code",
   "execution_count": null,
   "metadata": {},
   "outputs": [],
   "source": [
    "one_crosstab = pd.crosstab(attend_df_analytic_final.HomelessIndicatorOSSE,\n",
    "                  attend_df_analytic_final.school_anon,\n",
    "                  normalize = \"columns\").reset_index()\n",
    "\n",
    "one_crosstab['variable_name'] = one_crosstab.columns[0]\n",
    "one_crosstab.head()"
   ]
  },
  {
   "cell_type": "code",
   "execution_count": null,
   "metadata": {},
   "outputs": [],
   "source": [
    "## group by school\n",
    "attend_byschool = attend_df_analytic_final.groupby(['school_anon'])['school_anon', 'studentlevel_isa',\n",
    "                                                     'studentlevel_ca'].mean().reset_index()\n",
    "\n",
    "ca_order = attend_byschool.sort_values(by = 'studentlevel_ca', ascending = False)\n",
    "isa_order = attend_byschool.sort_values(by = 'studentlevel_isa', ascending = True)\n",
    "\n",
    "\n",
    "## print the rest of the schools\n",
    "cols_toround = [col for col in attend_byschool.columns if col not in [\"Enr_SchoolName\", \"school_anon\"]]\n",
    "cols_tomultiply = [col for col in attend_byschool.columns if col not in [\"Enr_SchoolName\", \"school_anon\"]]\n",
    "cols_toround_name = [col + \"_rounded\" for col in cols_toround]\n",
    "cols_tomultiply_name = [col + '_multiplied' for col in cols_tomultiply]\n",
    "attend_byschool[cols_tomultiply_name] = attend_byschool[cols_toround]*100\n",
    "attend_byschool[cols_toround_name] = attend_byschool[cols_tomultiply_name].round(-1).astype(int)"
   ]
  },
  {
   "cell_type": "code",
   "execution_count": null,
   "metadata": {},
   "outputs": [],
   "source": [
    "attend_byschool.head()"
   ]
  },
  {
   "cell_type": "code",
   "execution_count": null,
   "metadata": {},
   "outputs": [],
   "source": [
    "## \n",
    "attend_byschool['school_ordered_ca'] = attend_byschool.school_anon.astype('category').cat.reorder_categories(ca_order.school_anon)\n",
    "\n",
    "(ggplot(attend_byschool, aes(x = 'factor(school_ordered_ca)', y = 'studentlevel_ca_multiplied')) +\n",
    "geom_bar(stat = \"identity\", fill = \"#2B4888\", color = \"black\") +\n",
    "xlab(\"\") +\n",
    "standard_background +\n",
    "scale_fill_gradient(low = \"darkgreen\", high = \"firebrick\") +\n",
    "ylab(\"Percent chronically absent\\nTime frame: 10/1/2017-01/20/2018\\nSource: OSSE\") +\n",
    "geom_text(aes(x = 'factor(school_ordered_ca)', y = 'studentlevel_ca_multiplied',\n",
    "              label = 'studentlevel_ca_rounded'), nudge_y = 5)+\n",
    "coord_flip() +\n",
    "guides(fill = False) +\n",
    "theme(legend_position = (0.8, 0.8)))"
   ]
  },
  {
   "cell_type": "code",
   "execution_count": null,
   "metadata": {},
   "outputs": [],
   "source": [
    "## repeat for ISA\n",
    "attend_byschool['school_ordered_isa'] = attend_byschool.school_anon.astype('category').cat.reorder_categories(isa_order.school_anon)\n",
    "(ggplot(attend_byschool, aes(x = 'factor(school_ordered_isa)', y = 'studentlevel_isa_multiplied')) +\n",
    "geom_bar(stat = \"identity\", fill = \"#2B4888\", color = \"black\") +\n",
    "xlab(\"\") +\n",
    "standard_background +\n",
    "scale_fill_gradientn(colors = (\"firebrick\", \"gray\", \"darkgreen\"), values = (0, 0.89, 1)) +\n",
    "ylab(\"In-seat attendance rate\\nTime frame: 10/1/2017-01/20/2018\\nSource: OSSE\") +\n",
    "geom_text(aes(x = 'factor(school_ordered_isa)', y = 'studentlevel_isa_multiplied',\n",
    "              label = 'studentlevel_isa_rounded'), nudge_y = 5)+\n",
    "coord_flip() +\n",
    "guides(fill = False) +\n",
    "theme(legend_position = (0.8, 0.8)))"
   ]
  },
  {
   "cell_type": "markdown",
   "metadata": {},
   "source": [
    "## Show relative to distribution across schools in district"
   ]
  },
  {
   "cell_type": "code",
   "execution_count": null,
   "metadata": {},
   "outputs": [],
   "source": [
    "dcps_ms_query = \"\"\"\n",
    "select usi, \"Enr_SchoolName\",\n",
    "firstname, lastname, dateofbirth, \n",
    "gender, race, \"LEPIndicator\", \"GradeLevel\",\n",
    "sum(case when \"AttendanceStatusCode\" ='PF' then 1 else 0 end) as present_days,\n",
    "count(\"AttendanceStatusCode\") as membership_days,\n",
    "sum(case when \"Attendance_Status_Desc\" in ('Absent Excused Suspension', \n",
    "'Absent Fully Unexcused') then 1 else 0 end) as total_excusedorunexcused\n",
    "from dcps_sy1718\n",
    "where  \"AttendanceStatusCode\" !='NSD'\n",
    "and \"AttendanceDate\" between '2017-10-01' and '2018-01-20'\n",
    "and dateofbirth between '1998-10-1 00:00:00' AND '2011-09-30 23:59:59'\n",
    "and \"GradeLevel\" in ('06', '07', '08')\n",
    "group by usi, \"Enr_SchoolName\",\n",
    "firstname, lastname, dateofbirth, gender, race, \n",
    "\"LEPIndicator\", \"GradeLevel\";\n",
    "\"\"\""
   ]
  },
  {
   "cell_type": "code",
   "execution_count": null,
   "metadata": {},
   "outputs": [],
   "source": [
    "dcps_ms_allschools = pd.read_sql_query(dcps_ms_query, alchemy_connection)\n",
    "dcps_ms_allschools.head()"
   ]
  },
  {
   "cell_type": "code",
   "execution_count": null,
   "metadata": {},
   "outputs": [],
   "source": [
    "pcs_ms_query = \"\"\"\n",
    "select usi, \"Enr_SchoolName\",\n",
    "firstname, lastname, dateofbirth, \n",
    "gender, race, \"LEPIndicator\", \"GradeLevel\",\n",
    "sum(case when \"AttendanceStatusCode\" ='PF' or \"AttendanceStatusCode\" ='PPE' or \"AttendanceStatusCode\" ='PIS'or \"AttendanceStatusCode\" ='PPU' \n",
    "\t\tthen 1 else 0 end) as present_days,\n",
    "count(\"AttendanceStatusCode\") as membership_days,\n",
    "sum(case when \"Attendance_Status_Desc\" in ('Absent Fully Unexcused',\n",
    "'Absent Partial Unexcused', \n",
    "'Absent Fully Excused',\n",
    "'Absent Partial Excused') then 1 else 0 end)  as total_excusedorunexcused\n",
    "from charter_sy1718\n",
    "where  \"AttendanceStatusCode\" !='NSD'\n",
    "and \"AttendanceDate\" between '2017-10-01' and '2018-01-20'\n",
    "and dateofbirth between '1998-10-1 00:00:00' AND '2011-09-30 23:59:59'\n",
    "and \"GradeLevel\" in ('06', '07', '08')\n",
    "group by usi, \"Enr_SchoolName\",\n",
    "firstname, lastname, dateofbirth, gender, race, \n",
    "\"LEPIndicator\", \"GradeLevel\"\n",
    "\"\"\""
   ]
  },
  {
   "cell_type": "code",
   "execution_count": null,
   "metadata": {},
   "outputs": [],
   "source": [
    "pcs_ms_allschools = pd.read_sql_query(pcs_ms_query, alchemy_connection)\n",
    "pcs_ms_allschools.head()"
   ]
  },
  {
   "cell_type": "code",
   "execution_count": null,
   "metadata": {},
   "outputs": [],
   "source": [
    "ms_both_allschools = pd.concat([dcps_ms_allschools, pcs_ms_allschools])\n",
    "ms_both_allschools['studentlevel_isa'] = ms_both_allschools.present_days/ms_both_allschools.membership_days\n",
    "ms_both_allschools['studentlevel_ca'] = np.where(ms_both_allschools.total_excusedorunexcused/ms_both_allschools.membership_days >= 0.1, 1, 0)"
   ]
  },
  {
   "cell_type": "code",
   "execution_count": null,
   "metadata": {},
   "outputs": [],
   "source": [
    "ms_attend_byschool = ms_both_allschools.groupby(['Enr_SchoolName'])['Enr_SchoolName', 'studentlevel_isa',\n",
    "                                                     'studentlevel_ca'].mean().reset_index()"
   ]
  },
  {
   "cell_type": "code",
   "execution_count": null,
   "metadata": {},
   "outputs": [],
   "source": [
    "ms_attend_byschool.sort_values(by = 'studentlevel_ca', ascending = False).head()"
   ]
  },
  {
   "cell_type": "code",
   "execution_count": null,
   "metadata": {},
   "outputs": [],
   "source": [
    "attend_byschool"
   ]
  },
  {
   "cell_type": "code",
   "execution_count": null,
   "metadata": {},
   "outputs": [],
   "source": [
    "(ggplot(ms_attend_byschool, aes(x = 'studentlevel_ca')) +\n",
    "geom_density(fill = \"gray\", alpha = 0.3) +\n",
    "standard_background +\n",
    "scale_x_continuous(breaks = (0.1, 0.2, 0.3, 0.4, 0.5, 0.6, 0.7, 0.8)) +\n",
    "xlab(\"Chronic absenteeism by school\\n6th-8th graders\") +\n",
    "geom_vline(xintercept = (0.20, 0.29), linetype = \"dashed\", \n",
    "           color = \"#2B4888\",size = 2))\n",
    "\n",
    "#annotate(\"text\", x = (0.1, 0.4),\n",
    " #       y = (3, 3),\n",
    "  #      label = (\"School E\\n(PCS; 6-8)\",\n",
    "   #             \"School B\\n(DPCS; 6-8)\"),\n",
    "    #    color = \"#2B4888\"))\n",
    "\n"
   ]
  },
  {
   "cell_type": "code",
   "execution_count": null,
   "metadata": {},
   "outputs": [],
   "source": [
    "(ggplot(ms_attend_byschool, aes(x = 'studentlevel_isa')) +\n",
    "geom_density(fill = \"gray\", alpha = 0.3) +\n",
    "standard_background +\n",
    "scale_x_continuous(breaks = (0.1, 0.2, 0.3, 0.4, 0.5, 0.6, 0.7, 0.8)) +\n",
    "xlab(\"In-seat attendance by school\\n6th-8th graders\") +\n",
    "geom_vline(xintercept = (0.9, 0.89), linetype = \"dashed\", \n",
    "           color = \"#2B4888\",size = 0.5))\n",
    "#annotate(\"text\", x = (0.8, 0.95),\n",
    " #       y = (10, 10),\n",
    "  #      label = (\"School E\\n(PCS; 6-8)\",\n",
    "   #             \"School B\\n(DPCS; 6-8)\"),\n",
    "    #    color = \"#2B4888\"))"
   ]
  },
  {
   "cell_type": "code",
   "execution_count": null,
   "metadata": {},
   "outputs": [],
   "source": [
    "dcps_hs_query = \"\"\"\n",
    "select usi, \"Enr_SchoolName\",\n",
    "firstname, lastname, dateofbirth, \n",
    "gender, race, \"LEPIndicator\", \"GradeLevel\",\n",
    "sum(case when \"AttendanceStatusCode\" ='PF' then 1 else 0 end) as present_days,\n",
    "count(\"AttendanceStatusCode\") as membership_days,\n",
    "sum(case when \"Attendance_Status_Desc\" in ('Absent Excused Suspension', \n",
    "'Absent Fully Unexcused') then 1 else 0 end) as total_excusedorunexcused\n",
    "from dcps_sy1718\n",
    "where  \"AttendanceStatusCode\" !='NSD'\n",
    "and \"AttendanceDate\" between '2017-10-01' and '2018-01-20'\n",
    "and dateofbirth between '1998-10-1 00:00:00' AND '2011-09-30 23:59:59'\n",
    "and \"GradeLevel\" in ('09', '10', '11', '12')\n",
    "group by usi, \"Enr_SchoolName\",\n",
    "firstname, lastname, dateofbirth, gender, race, \n",
    "\"LEPIndicator\", \"GradeLevel\";\n",
    "\"\"\""
   ]
  },
  {
   "cell_type": "code",
   "execution_count": null,
   "metadata": {},
   "outputs": [],
   "source": [
    "pcs_hs_query = \"\"\"\n",
    "select usi, \"Enr_SchoolName\",\n",
    "firstname, lastname, dateofbirth, \n",
    "gender, race, \"LEPIndicator\", \"GradeLevel\",\n",
    "sum(case when \"AttendanceStatusCode\" ='PF' or \"AttendanceStatusCode\" ='PPE' or \"AttendanceStatusCode\" ='PIS'or \"AttendanceStatusCode\" ='PPU' \n",
    "\t\tthen 1 else 0 end) as present_days,\n",
    "count(\"AttendanceStatusCode\") as membership_days,\n",
    "sum(case when \"Attendance_Status_Desc\" in ('Absent Fully Unexcused',\n",
    "'Absent Partial Unexcused', \n",
    "'Absent Fully Excused',\n",
    "'Absent Partial Excused') then 1 else 0 end)  as total_excusedorunexcused\n",
    "from charter_sy1718\n",
    "where  \"AttendanceStatusCode\" !='NSD'\n",
    "and \"AttendanceDate\" between '2017-10-01' and '2018-01-20'\n",
    "and dateofbirth between '1998-10-1 00:00:00' AND '2011-09-30 23:59:59'\n",
    "and \"GradeLevel\" in ('09', '10', '11', '12')\n",
    "group by usi, \"Enr_SchoolName\",\n",
    "firstname, lastname, dateofbirth, gender, race, \n",
    "\"LEPIndicator\", \"GradeLevel\"\n",
    "\"\"\""
   ]
  },
  {
   "cell_type": "code",
   "execution_count": null,
   "metadata": {},
   "outputs": [],
   "source": [
    "pcs_hs_allschools = pd.read_sql_query(pcs_hs_query, alchemy_connection)\n",
    "dcps_hs_allschools = pd.read_sql_query(dcps_hs_query, alchemy_connection)\n",
    "hs_both_allschools = pd.concat([dcps_hs_allschools, pcs_hs_allschools])\n",
    "hs_both_allschools['studentlevel_isa'] = hs_both_allschools.present_days/hs_both_allschools.membership_days\n",
    "hs_both_allschools['studentlevel_ca'] = np.where(hs_both_allschools.total_excusedorunexcused/hs_both_allschools.membership_days >= 0.1, 1, 0)"
   ]
  },
  {
   "cell_type": "code",
   "execution_count": null,
   "metadata": {},
   "outputs": [],
   "source": [
    "hs_attend_byschool = hs_both_allschools.groupby(['Enr_SchoolName'])['Enr_SchoolName', 'studentlevel_isa',\n",
    "                                                     'studentlevel_ca'].mean().reset_index()\n",
    "\n",
    "#hs_attend_byschool\n",
    "\n",
    "(ggplot(hs_attend_byschool, aes(x = 'studentlevel_ca')) +\n",
    "geom_density(fill = \"gray\", alpha = 0.3) +\n",
    "standard_background +\n",
    "scale_x_continuous(breaks = (0.1, 0.2, 0.3, 0.4, 0.5, 0.6, 0.7, 0.8)) +\n",
    "xlab(\"Chronic absenteeism by school\\n9th-12th graders\") +\n",
    "geom_vline(xintercept = (0.89, 0.5, 0.74, 0.48, 0.33), linetype = \"dashed\", \n",
    "           color = \"#2B4888\",size = 2))"
   ]
  },
  {
   "cell_type": "code",
   "execution_count": null,
   "metadata": {},
   "outputs": [],
   "source": [
    "attend_byschool"
   ]
  },
  {
   "cell_type": "code",
   "execution_count": null,
   "metadata": {},
   "outputs": [],
   "source": [
    "(ggplot(hs_attend_byschool, aes(x = 'studentlevel_isa')) +\n",
    "geom_density(fill = \"gray\", alpha = 0.3) +\n",
    "standard_background +\n",
    "scale_x_continuous(breaks = (0.1, 0.2, 0.3, 0.4, 0.5, 0.6, 0.7, 0.8)) +\n",
    "xlab(\"In-seat attendance by school\\n9th-12th graders\") +\n",
    "geom_vline(xintercept = (0.56, 0.85, 0.73, 0.85, 0.89), linetype = \"dashed\", \n",
    "           color = \"#2B4888\",size = 2))"
   ]
  },
  {
   "cell_type": "code",
   "execution_count": null,
   "metadata": {},
   "outputs": [],
   "source": [
    "ms_both_allschools.describe()\n",
    "hs_both_allschools.describe()"
   ]
  },
  {
   "cell_type": "code",
   "execution_count": null,
   "metadata": {},
   "outputs": [],
   "source": [
    "attend_all_schools = pd.concat([ms_both_allschools, hs_both_allschools])\n",
    "attend_all_schools.describe()"
   ]
  },
  {
   "cell_type": "markdown",
   "metadata": {},
   "source": [
    "### Graphs separate by grade created but not included in the pre-analysis plan"
   ]
  },
  {
   "cell_type": "code",
   "execution_count": null,
   "metadata": {},
   "outputs": [],
   "source": [
    "## by grade level\n",
    "ungraded = [\"C\" + str(val) for val in np.arange(1, 6)]\n",
    "attend_df_graded = attend_df_analytic.loc[~attend_df_analytic.GradeLevel.isin(ungraded)].copy()\n",
    "\n",
    "## calculate mean by school and by grade\n",
    "attend_byschool_bygrade = attend_df_graded.groupby(['school_anon', 'GradeLevel'])['school_anon', 'studentlevel_isa',\n",
    "                                'studentlevel_ca'].mean().reset_index()\n",
    "attend_byschool_bygrade_valid = attend_byschool_bygrade[attend_byschool_bygrade.studentlevel_ca > 0].copy() # gets rid of \n",
    "## erroneous eight grader at anacostia\n",
    "(ggplot(attend_byschool_bygrade_valid, aes(x = 'factor(GradeLevel)', y = 'studentlevel_ca', fill = 'studentlevel_ca')) +\n",
    "geom_bar(stat = 'identity') +\n",
    "facet_wrap('~school_anon', ncol = 2) +\n",
    "xlab(\"Grade\") +\n",
    "standard_background +\n",
    "guides(fill = False) +\n",
    "scale_fill_gradient(low = \"darkgreen\", high = \"firebrick\") +\n",
    "ylab(\"Chronic absenteeism rate\\n(end of first semester; SY1718; OSSE data)\") +\n",
    "theme(strip_text_x = element_text(size = 8)))"
   ]
  },
  {
   "cell_type": "code",
   "execution_count": null,
   "metadata": {},
   "outputs": [],
   "source": [
    "(ggplot(attend_byschool_bygrade_valid, aes(x = 'factor(GradeLevel)', y = 'studentlevel_isa', fill = 'studentlevel_isa')) +\n",
    "geom_bar(stat = 'identity') +\n",
    "facet_wrap('~school_anon', ncol = 2) +\n",
    "xlab(\"Grade\") +\n",
    "standard_background +\n",
    "guides(fill = False) +\n",
    "scale_fill_gradientn(colors = (\"firebrick\", \"gray\", \"darkgreen\"), values = (0, 0.89, 1)) +\n",
    "ylab(\"In-seat attendance rate\\n(end of first semester; SY1718; OSSE data)\") +\n",
    "theme(strip_text_x = element_text(size = 8)))"
   ]
  },
  {
   "cell_type": "markdown",
   "metadata": {},
   "source": [
    "# 4. Write to csv"
   ]
  },
  {
   "cell_type": "code",
   "execution_count": null,
   "metadata": {},
   "outputs": [],
   "source": [
    "attend_df.to_csv(\"../data/attendance_indiv_data.csv\", index = False)"
   ]
  },
  {
   "cell_type": "code",
   "execution_count": null,
   "metadata": {},
   "outputs": [],
   "source": []
  }
 ],
 "metadata": {
  "kernelspec": {
   "display_name": "Python 3 (ipykernel)",
   "language": "python",
   "name": "python3"
  },
  "language_info": {
   "codemirror_mode": {
    "name": "ipython",
    "version": 3
   },
   "file_extension": ".py",
   "mimetype": "text/x-python",
   "name": "python",
   "nbconvert_exporter": "python",
   "pygments_lexer": "ipython3",
   "version": "3.12.7"
  }
 },
 "nbformat": 4,
 "nbformat_minor": 4
}
