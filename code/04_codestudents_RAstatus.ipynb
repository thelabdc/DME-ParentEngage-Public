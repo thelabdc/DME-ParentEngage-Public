{
 "cells": [
  {
   "cell_type": "markdown",
   "metadata": {},
   "source": [
    "# 0. Packages"
   ]
  },
  {
   "cell_type": "code",
   "execution_count": null,
   "metadata": {},
   "outputs": [],
   "source": [
    "rm(list = ls())\n",
    "library(dplyr)\n",
    "library(stringr)\n",
    "\n",
    "CapStr <- function(y) {\n",
    "  c <- strsplit(y, \" \")[[1]]\n",
    "  paste(toupper(substring(c, 1,1)), substring(c, 2),\n",
    "      sep=\"\", collapse=\" \")\n",
    "}\n"
   ]
  },
  {
   "cell_type": "markdown",
   "metadata": {},
   "source": [
    "# 1. Load teacher treatment status and student rosters"
   ]
  },
  {
   "cell_type": "code",
   "execution_count": null,
   "metadata": {},
   "outputs": [],
   "source": [
    "teacher_txstatus = read.csv(\"../randomization_status/fallsemschools_summarizeRA.csv\")\n"
   ]
  },
  {
   "cell_type": "code",
   "execution_count": null,
   "metadata": {},
   "outputs": [],
   "source": [
    "student_rosters = read.csv(\"../data/analysis_data/student_roster_sent01312020.csv\")"
   ]
  },
  {
   "cell_type": "markdown",
   "metadata": {},
   "source": [
    "# 2. Create common school name and match within a school"
   ]
  },
  {
   "cell_type": "code",
   "execution_count": null,
   "metadata": {},
   "outputs": [],
   "source": [
    "teacher_txstatus = teacher_txstatus %>%\n",
    "            mutate(school_init = gsub(\"\\\\_.*\", \"\", strata_id),\n",
    "                  school_final = ifelse(grepl(\"chec\", school_init), \"chec\", school_init))\n",
    "\n",
    "table(teacher_txstatus$school_final)"
   ]
  },
  {
   "cell_type": "code",
   "execution_count": null,
   "metadata": {},
   "outputs": [],
   "source": [
    "student_rosters = student_rosters %>%\n",
    "                mutate(school = \n",
    "                      case_when(grepl(\"Ana\", InstitutionName) ~ \"anacostia\",\n",
    "                               grepl(\"Columbia\", InstitutionName) ~ \"chec\",\n",
    "                               grepl(\"Dunbar\", InstitutionName) ~ \"dunbar\"))\n",
    "\n",
    "## non-unique count of students\n",
    "table(student_rosters$school)"
   ]
  },
  {
   "cell_type": "markdown",
   "metadata": {},
   "source": [
    "## 2.1 match and code anacostia"
   ]
  },
  {
   "cell_type": "code",
   "execution_count": null,
   "metadata": {},
   "outputs": [],
   "source": [
    "return_teacher_matches <- function(roster_data, randomization_data, school_name){\n",
    "    \n",
    "    ## get list of teachers in a school\n",
    "    teachers_searchin = unique(roster_data$TeacherName1[roster_data$school == school_name])\n",
    "    \n",
    "    ## get teachers randomized to treatment\n",
    "    tx_teachers = unique(randomization_data$teacher_id[randomization_data$school_final == school_name & \n",
    "                                        randomization_data$treatment == \"Pilot\"])\n",
    "    control_teachers = unique(randomization_data$teacher_id[randomization_data$school_final == school_name & \n",
    "                                        randomization_data$treatment == \"Not pilot\"])\n",
    "    \n",
    "    ## get matches with tx teachers\n",
    "    tx_teacher_matches = unlist(lapply(tx_teachers, function(x) agrep(x, teachers_searchin, value = TRUE,\n",
    "                                                         max = 4)))\n",
    "    print(sprintf(\"%s original treatment teachers were: %s\", length(tx_teachers), paste(tx_teachers, collapse = \"; \")))\n",
    "    print(sprintf(\"%s matched treatment teachers are: %s\", length(tx_teacher_matches), paste(tx_teacher_matches, collapse = \"; \")))\n",
    "                                       \n",
    "    ## get matches with control teachers\n",
    "    control_teacher_matches = unlist(lapply(control_teachers, function(x) agrep(x, teachers_searchin, value = TRUE,\n",
    "                                                         max = 4)))\n",
    "    print(sprintf(\"%s original control teachers were: %s\", length(control_teachers), paste(control_teachers, collapse = \"; \")))\n",
    "    print(sprintf(\"%s matched control teachers are: %s\", length(control_teacher_matches), \n",
    "                  paste(control_teacher_matches, collapse = \"; \")))\n",
    "                                            \n",
    "    ## store in a list and return\n",
    "    matched_teachers = list(tx_teacher_matches = tx_teacher_matches,\n",
    "                            control_teacher_matches = control_teacher_matches)\n",
    "                                       \n",
    "    return(matched_teachers)\n",
    "    \n",
    "}"
   ]
  },
  {
   "cell_type": "code",
   "execution_count": null,
   "metadata": {},
   "outputs": [],
   "source": [
    "code_studentlevel_txstatus <- function(matched_teachers, roster_data, school_name){\n",
    "    \n",
    "    studlevel_RA = roster_data %>%\n",
    "                filter(school == school_name) %>%\n",
    "                mutate(T_teacher = ifelse(TeacherName1 %in% matched_teachers$tx_teacher_matches, 1, 0),\n",
    "                C_teacher = ifelse(TeacherName1 %in% matched_teachers$control_teacher_matches, 1, 0)) %>%\n",
    "                group_by(StudentID) %>%\n",
    "                summarise(tx_summary = paste(T_teacher, collapse = \"; \"), #all teachers in tx (since \n",
    "                         #teachers can be repeated across terms)\n",
    "                        control_summary = paste(C_teacher, collapse= \"; \"), #all teachers in control\n",
    "                        any_tx = ifelse(grepl(\"1\", tx_summary), 1, 0), #at least one tx teacher\n",
    "                        any_control = ifelse(grepl(\"1\", control_summary), 1, 0), # at least one control teacher\n",
    "                        student_grade = unique(StudentGrade),\n",
    "                        final_status = \n",
    "                        case_when(any_tx == 1 & any_control == 1 ~ \"Both types\",\n",
    "                                             any_tx == 1 & any_control == 0 ~ \"Tx only\",\n",
    "                                             any_tx == 0 & any_control == 1 ~ \"Control only\",\n",
    "                                             any_tx == 0 & any_control == 0 ~ \"Neither\"))\n",
    "    \n",
    "    return(studlevel_RA)\n",
    "    \n",
    "    \n",
    "}\n",
    "\n",
    "get_write_multipletx = function(roster_data, student_summary,\n",
    "                               matched_teachers, schoolname){\n",
    "    \n",
    "    studlevel_crossover = roster_data %>%\n",
    "                    filter(StudentID %in% student_summary$StudentID[student_summary$final_status == \"Both types\"]) %>%\n",
    "                    mutate(T_teacher = ifelse(TeacherName1 %in% matched_teachers$tx_teacher_matches, 1, 0),\n",
    "                C_teacher = ifelse(TeacherName1 %in% matched_teachers$control_teacher_matches, 1, 0)) %>%\n",
    "                group_by(StudentID) %>%\n",
    "                filter(T_teacher == 1 | C_teacher == 1) %>% arrange(StudentID)\n",
    "    write.csv(studlevel_crossover, \n",
    "             sprintf(\"../data_checkwithteachertext/%s_multipleassigned.csv\",\n",
    "                    schoolname))\n",
    "    return(studlevel_crossover)\n",
    "    \n",
    "    \n",
    "}"
   ]
  },
  {
   "cell_type": "code",
   "execution_count": null,
   "metadata": {},
   "outputs": [],
   "source": [
    "matched_teachers_ana = return_teacher_matches(roster_data  = student_rosters,\n",
    "                                             randomization_data = teacher_txstatus,\n",
    "                                             school_name = \"anacostia\")\n"
   ]
  },
  {
   "cell_type": "code",
   "execution_count": null,
   "metadata": {},
   "outputs": [],
   "source": [
    "studlevel_RA_ana = code_studentlevel_txstatus(matched_teachers_ana, student_rosters, \"anacostia\")\n",
    "\n",
    "## get schedules of students with multiple tx status\n",
    "crossover_ana = get_write_multipletx(roster_data = student_rosters, \n",
    "                                    student_summary = studlevel_RA_ana,\n",
    "                                    matched_teachers = matched_teachers_ana,\n",
    "                                    schoolname = \"anacostia\")"
   ]
  },
  {
   "cell_type": "markdown",
   "metadata": {},
   "source": [
    "## 2.2 Match and code chec"
   ]
  },
  {
   "cell_type": "code",
   "execution_count": null,
   "metadata": {},
   "outputs": [],
   "source": [
    "## first, since chec hs only had emails rather than names\n",
    "## code to names and replace that col in main data\n",
    "chec_emails = teacher_txstatus %>% filter(school_init == \"checHS\") %>%\n",
    "            mutate(first_name = unlist(lapply(gsub(\"\\\\..*\", \"\", teacher_id), CapStr)),\n",
    "                  last_name = unlist(lapply(str_match(teacher_id, \"\\\\.(.*)@\")[, 2], CapStr))) %>%\n",
    "            dplyr::select(-teacher_id) %>%\n",
    "            mutate(teacher_id = sprintf(\"%s %s\", first_name, last_name)) %>%\n",
    "            dplyr::select(-first_name, -last_name)\n",
    "\n",
    "others = teacher_txstatus %>% filter(school_init != \"checHS\")\n",
    "\n",
    "teacher_txstatus_updated = rbind.data.frame(chec_emails, others) %>%\n",
    "                    mutate(treatment = ifelse(treatment %in% c(\"No pilot\", \"Not pilot\"),\n",
    "                                             \"Not pilot\", \"Pilot\"))\n",
    "\n"
   ]
  },
  {
   "cell_type": "code",
   "execution_count": null,
   "metadata": {},
   "outputs": [],
   "source": [
    "matched_teachers_chec = return_teacher_matches(roster_data  = student_rosters,\n",
    "                                             randomization_data = teacher_txstatus_updated,\n",
    "                                             school_name = \"chec\")"
   ]
  },
  {
   "cell_type": "code",
   "execution_count": null,
   "metadata": {},
   "outputs": [],
   "source": [
    "## resolve discrepancies\n",
    "chec_final_matched = c(setdiff(matched_teachers_chec$tx_teacher_matches, \n",
    "                            chec_teach_falsepos), chec_teach_falseneg)\n",
    "\n",
    "matched_teachers_chec$tx_teacher_matches = chec_final_matched\n",
    "\n",
    "\n",
    "studlevel_RA_chec = code_studentlevel_txstatus(matched_teachers_chec, student_rosters, \"chec\") %>%\n",
    "                mutate(campus = ifelse(student_grade %in% c(\"6\", \"7\", \"8\"), \"ms\", \"hs\"))\n",
    "\n",
    "crossover_chec = get_write_multipletx(roster_data = student_rosters, \n",
    "                                    student_summary = studlevel_RA_chec,\n",
    "                                    matched_teachers = matched_teachers_chec,\n",
    "                                    schoolname = \"chec\")\n",
    "\n",
    "## noticed when examining that some teachers \n",
    "## (eg mcfadden) have disabled in their email\n",
    "## maybe left school?\n"
   ]
  },
  {
   "cell_type": "markdown",
   "metadata": {},
   "source": [
    "## 3.3 match and code dunbar"
   ]
  },
  {
   "cell_type": "code",
   "execution_count": null,
   "metadata": {},
   "outputs": [],
   "source": [
    "matched_teachers_dunbar = return_teacher_matches(roster_data  = student_rosters,\n",
    "                                             randomization_data = teacher_txstatus_updated,\n",
    "                                             school_name = \"dunbar\")\n",
    "\n",
    "studlevel_RA_dunbar = code_studentlevel_txstatus(matched_teachers_dunbar, student_rosters, \"dunbar\")\n",
    "table(studlevel_RA_dunbar$final_status)\n",
    "\n",
    "crossover_dunbar = get_write_multipletx(roster_data = student_rosters, \n",
    "                                    student_summary = studlevel_RA_dunbar,\n",
    "                                    matched_teachers = matched_teachers_dunbar,\n",
    "                                    schoolname = \"dunbar\")"
   ]
  },
  {
   "cell_type": "markdown",
   "metadata": {},
   "source": [
    "# 4. Bind into a single file and write for use in messaging data analysis"
   ]
  },
  {
   "cell_type": "code",
   "execution_count": null,
   "metadata": {},
   "outputs": [],
   "source": [
    "ranames = list(studlevel_RA_ana %>% mutate(school = \"anacostia\"), \n",
    "               studlevel_RA_chec %>% mutate(school = sprintf(\"chec_%s\", campus)) %>% dplyr::select(-campus),\n",
    "              studlevel_RA_dunbar %>% mutate(school = \"dunbar\"))\n",
    "ra_combined = do.call(rbind.data.frame, ranames)\n",
    "\n",
    "write.csv(ra_combined, \"../randomization_status/allstudent_RAstatus.csv\",\n",
    "         row.names = FALSE)\n"
   ]
  }
 ],
 "metadata": {
  "kernelspec": {
   "display_name": "Python 3 (ipykernel)",
   "language": "python",
   "name": "python3"
  },
  "language_info": {
   "codemirror_mode": {
    "name": "ipython",
    "version": 3
   },
   "file_extension": ".py",
   "mimetype": "text/x-python",
   "name": "python",
   "nbconvert_exporter": "python",
   "pygments_lexer": "ipython3",
   "version": "3.12.7"
  }
 },
 "nbformat": 4,
 "nbformat_minor": 4
}
