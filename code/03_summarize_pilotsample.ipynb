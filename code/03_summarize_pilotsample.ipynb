{
 "cells": [
  {
   "cell_type": "code",
   "execution_count": null,
   "metadata": {},
   "outputs": [],
   "source": [
    "library(dplyr)"
   ]
  },
  {
   "cell_type": "markdown",
   "metadata": {},
   "source": [
    "# 1. Read in files for each of the DCPS schools and create strata"
   ]
  },
  {
   "cell_type": "code",
   "execution_count": null,
   "metadata": {},
   "outputs": [],
   "source": [
    "## read in\n",
    "teachers_chechs = read.csv(\"../randomization_status/teachers_in_pilot_FORLAB.csv\")\n",
    "teachers_chechs\n",
    "\n",
    "n_strata = length(unique(teachers_chechs$pair_id_SG))\n",
    "teachers_chechs = teachers_chechs %>%\n",
    "                mutate(strata_id = sprintf(\"checHS_strata_%s\",\n",
    "                                          rep(seq(1, n_strata), each = 2)))\n",
    "\n",
    "teachers_chechs_tomerge = teachers_chechs %>%\n",
    "                    dplyr::select(Teacher.Email, treatment_status_SG, strata_id) %>%\n",
    "                    rename(teacher_id = Teacher.Email, \n",
    "                          treatment = treatment_status_SG)\n",
    "\n"
   ]
  },
  {
   "cell_type": "code",
   "execution_count": null,
   "metadata": {},
   "outputs": [],
   "source": [
    "## summarise\n",
    "table(teachers_chechs$treatment_status_SG)\n",
    "teachers_chechs %>% group_by(treatment_status_SG) %>% summarise(n = sum(total_students))"
   ]
  },
  {
   "cell_type": "code",
   "execution_count": null,
   "metadata": {},
   "outputs": [],
   "source": [
    "teachers_checms = read.csv(\"../randomization_status/chec_MS_teacherpilotstatus.csv\")\n"
   ]
  },
  {
   "cell_type": "code",
   "execution_count": null,
   "metadata": {},
   "outputs": [],
   "source": [
    "n_strata = length(unique(teachers_checms$strata_name))\n",
    "teachers_checms_tomerge = teachers_checms %>%\n",
    "                    mutate(strata_id = sprintf(\"checMS_strata_%s\",\n",
    "                                          as.numeric(factor(strata_name)))) %>%\n",
    "                    dplyr::select(teacher_id, treatment, strata_id) \n",
    "\n"
   ]
  },
  {
   "cell_type": "code",
   "execution_count": null,
   "metadata": {},
   "outputs": [],
   "source": [
    "teachers_anacostia = read.csv(\"../randomization_status/anacostia_teacherpilotstatus.csv\")\n"
   ]
  },
  {
   "cell_type": "code",
   "execution_count": null,
   "metadata": {},
   "outputs": [],
   "source": [
    "head(teachers_anacostia)"
   ]
  },
  {
   "cell_type": "code",
   "execution_count": null,
   "metadata": {},
   "outputs": [],
   "source": [
    "teachers_anacostia %>% group_by(treatment) %>% summarise(n = sum(total_students))"
   ]
  },
  {
   "cell_type": "code",
   "execution_count": null,
   "metadata": {},
   "outputs": [],
   "source": [
    "teachers_ana_tomerge = teachers_anacostia %>%\n",
    "                    mutate(strata_id = sprintf(\"anacostia_strata_%s\",\n",
    "                                          as.numeric(factor(strata_name)))) %>%\n",
    "                    dplyr::select(teacher_id, treatment, strata_id) \n",
    "\n"
   ]
  },
  {
   "cell_type": "code",
   "execution_count": null,
   "metadata": {},
   "outputs": [],
   "source": [
    "teachers_dunbar = read.csv(\"../randomization_status/dunbar_teacherpilotstatus.csv\")\n",
    "\n"
   ]
  },
  {
   "cell_type": "code",
   "execution_count": null,
   "metadata": {},
   "outputs": [],
   "source": [
    "teachers_dunbar_tomerge = teachers_dunbar %>%\n",
    "                    mutate(strata_id = sprintf(\"dunbar_strata_%s\",\n",
    "                                          as.numeric(factor(strata_name)))) %>%\n",
    "                    dplyr::select(teacher_id, treatment, strata_id) "
   ]
  },
  {
   "cell_type": "code",
   "execution_count": null,
   "metadata": {},
   "outputs": [],
   "source": [
    "teachers_dunbar %>% group_by(treatment) %>% summarise(n = sum(total_students))\n",
    "head(teachers_dunbar)"
   ]
  },
  {
   "cell_type": "markdown",
   "metadata": {},
   "source": [
    "# 2. Create one master file with randomization status of all teachers"
   ]
  },
  {
   "cell_type": "code",
   "execution_count": null,
   "metadata": {},
   "outputs": [],
   "source": [
    "files_torbind =  ls(pattern = \"tomerge\")\n",
    "objects_torbind = lapply(files_torbind, function(x) get(x))"
   ]
  },
  {
   "cell_type": "code",
   "execution_count": null,
   "metadata": {},
   "outputs": [],
   "source": [
    "teachers_fallsem = do.call(rbind.data.frame, objects_torbind)\n",
    "write.csv(teachers_fallsem, \"../randomization_status/fallsemschools_summarizeRA.csv\",\n",
    "         row.names = FALSE)"
   ]
  }
 ],
 "metadata": {
  "kernelspec": {
   "display_name": "Python 3 (ipykernel)",
   "language": "python",
   "name": "python3"
  },
  "language_info": {
   "codemirror_mode": {
    "name": "ipython",
    "version": 3
   },
   "file_extension": ".py",
   "mimetype": "text/x-python",
   "name": "python",
   "nbconvert_exporter": "python",
   "pygments_lexer": "ipython3",
   "version": "3.12.7"
  }
 },
 "nbformat": 4,
 "nbformat_minor": 4
}
