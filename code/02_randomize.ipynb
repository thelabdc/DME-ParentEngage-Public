{
 "cells": [
  {
   "cell_type": "markdown",
   "metadata": {},
   "source": [
    "# 0. Packages and functions"
   ]
  },
  {
   "cell_type": "code",
   "execution_count": null,
   "metadata": {},
   "outputs": [],
   "source": [
    "library(dplyr)\n",
    "library(blockrand)\n",
    "library(\"experiment\")\n"
   ]
  },
  {
   "cell_type": "code",
   "execution_count": null,
   "metadata": {},
   "outputs": [],
   "source": [
    "get_grades_eachteacher <- function(data, teacher_identifier){\n",
    "    \n",
    "    data_gradedist = data %>%\n",
    "                group_by_at(vars(one_of(teacher_identifier))) %>%\n",
    "                summarise(all_grades = paste(Grade, collapse= \";\")) %>%\n",
    "                mutate(ms = ifelse(grepl(\"6|7|8\", all_grades), 1, 0),\n",
    "                  hs = ifelse(grepl(\"9|10|11|12\", all_grades), 1, 0),\n",
    "                  both_ms_and_hs = ifelse(ms == 1 & hs == 1, 1, 0))\n",
    "    return(data_gradedist)\n",
    "    \n",
    "    \n",
    "    \n",
    "}\n",
    "\n",
    "parse_course_info <- function(data, colname){\n",
    "    \n",
    "    course_info = strsplit(as.character(data[[colname]]),'-')\n",
    "    course_info_cols = do.call(rbind, course_info)\n",
    "    colnames(course_info_cols) = c(\"course_name\", \"teacher\", \"period\")\n",
    "    data_wcourse = cbind.data.frame(data, course_info_cols)\n",
    "    return(data_wcourse)\n",
    "    \n",
    "}\n",
    "\n",
    "find_course_grade_periods_byteacher <- function(data, teacher_identifier){\n",
    "    \n",
    "    ## initialize storage vectors\n",
    "    unique_courses = c()\n",
    "    unique_grades = c()\n",
    "    unique_periods = c()\n",
    "    \n",
    "    ## get all identifiers\n",
    "    all_teachers = unique(data[[teacher_identifier]])\n",
    "    \n",
    "    ## iterate through teachers\n",
    "    for(i in 1:length(all_teachers)){\n",
    "    \n",
    "        ## subset to one teacher teacher\n",
    "        one_teacher = data[data[[teacher_identifier]] == all_teachers[i], ]\n",
    "        print(sprintf(\"Returning values for %s\", all_teachers[i]))\n",
    "    \n",
    "        ## add their courses\n",
    "        unique_courses = c(unique_courses, paste(unique(one_teacher$course_name), collapse = \"; \"))\n",
    "        unique_grades  = c(unique_grades, paste(unique(one_teacher$Grade), collapse = \";\"))\n",
    "        unique_periods = c(unique_periods, paste(unique(one_teacher$period), collapse = \";\"))\n",
    "        \n",
    "    }\n",
    "    \n",
    "    ## get number of students per teacher\n",
    "    n_students_perteacher = data %>% group_by_at(vars(one_of(teacher_identifier))) %>% \n",
    "                            summarise(total_students = sum(Students))\n",
    "    \n",
    "    ## left join n students per teacher onto other teacher attributes\n",
    "    teacher_summary =merge(data.frame(teacher_id = all_teachers,\n",
    "                            courses = unique_courses,\n",
    "                            grades = unique_grades,\n",
    "                            periods = unique_periods),\n",
    "                           n_students_perteacher,\n",
    "                            by.x = \"teacher_id\",\n",
    "                           by.y = teacher_identifier,\n",
    "                           all.x = TRUE)\n",
    "    ## return data\n",
    "    return(teacher_summary)\n",
    "\n",
    "    \n",
    "}\n",
    "\n",
    "aggregate_courses_grades <- function(longform_data, vars_finddummies, teacher_identifier,\n",
    "                                    wide_teacher_summary){\n",
    "    \n",
    "    ## first create dummy vars\n",
    "    dummy_vars =  model.matrix(formula(sprintf(\"~ %s - 1\",\n",
    "                                      paste(vars_finddummies, \n",
    "                                           collapse = \"+\"))), data=longform_data)\n",
    "    \n",
    "    ## add to original data\n",
    "    data_withdummies = cbind.data.frame(longform_data, dummy_vars)\n",
    "    \n",
    "    ## above creates longform data \n",
    "    ## find how many times a teacher teaches each course\n",
    "    ## and find avg grade they teach\n",
    "    total_courses_byteacher = data_withdummies %>%\n",
    "                        dplyr::select(-course_name) %>%\n",
    "                         group_by_at(vars(one_of(teacher_identifier))) %>%\n",
    "                         summarise_at(vars(contains(\"course_name\")), \n",
    "                         ~sum(.x)) \n",
    "    \n",
    "    avg_grade_byteacher = longform_data %>%\n",
    "            group_by_at(vars(one_of(teacher_identifier))) %>%\n",
    "            mutate(grade_numeric = as.numeric(as.character(Grade))) %>%\n",
    "            summarise(avg_grade = mean(grade_numeric))\n",
    "    \n",
    "    ## merge with summaries\n",
    "\n",
    "    teacher_summary_wcourses = merge(wide_teacher_summary,\n",
    "                                    total_courses_byteacher,\n",
    "                                    by.x = \"teacher_id\",\n",
    "                                    by.y = teacher_identifier)\n",
    "    teacher_summary_all = merge(teacher_summary_wcourses,\n",
    "                               avg_grade_byteacher,\n",
    "                               by.x = \"teacher_id\",\n",
    "                                by.y = teacher_identifier)\n",
    "    return(teacher_summary_all)\n",
    "    \n",
    "}\n",
    "\n",
    "## do block randomization within strata\n",
    "blockrand_withstrata <- function(strata_level, data, strata_varname){\n",
    "    \n",
    "    df_strata = data[data[[strata_varname]] == strata_level, ] \n",
    "    df_strata = df_strata %>% mutate(id = 1:nrow(df_strata))\n",
    "    block_output = blockrand(n = nrow(df_strata),\n",
    "                            num.levels = 2, \n",
    "                            levels = c(\"Pilot\", \"Not pilot\"),\n",
    "                            block.sizes = 2)\n",
    "    \n",
    "    ## left join \n",
    "    df_strata_withtx = merge(df_strata, block_output, by = \"id\",\n",
    "                            all.x = TRUE)\n",
    "    return(df_strata_withtx)\n",
    "    \n",
    "}"
   ]
  },
  {
   "cell_type": "markdown",
   "metadata": {},
   "source": [
    "# 0. Friendship \n",
    "\n"
   ]
  },
  {
   "cell_type": "code",
   "execution_count": null,
   "metadata": {},
   "outputs": [],
   "source": [
    "friendship_homerooms = read.csv(\"../data/friendship_homeroom.csv\")\n",
    "\n",
    "friendship_homerooms = friendship_homerooms %>%\n",
    "                mutate(first_name = gsub(\"\\\\s+\", \"\", \n",
    "                        gsub(\".*\\\\,\", \"\", teacher)))\n",
    "\n",
    "\n",
    "gender_df = lapply(friendship_homerooms$first_name, gender)\n",
    "\n",
    "\n"
   ]
  },
  {
   "cell_type": "code",
   "execution_count": null,
   "metadata": {},
   "outputs": [],
   "source": [
    "gender_df_all = do.call(rbind.data.frame, gender_df) %>% dplyr::select(name, gender)\n",
    "\n",
    "friendship_homerooms_wgender = merge(friendship_homerooms, gender_df_all,\n",
    "                                    by.x = \"first_name\",\n",
    "                                    by.y = \"name\",\n",
    "                                    all.x = TRUE) %>%\n",
    "                            mutate(gender_final = ifelse(first_name == \"Jaraina\", \"female\", \n",
    "                                                        gender))\n",
    "\n"
   ]
  },
  {
   "cell_type": "code",
   "execution_count": null,
   "metadata": {},
   "outputs": [],
   "source": [
    "head(friendship_homerooms_wgender)"
   ]
  },
  {
   "cell_type": "code",
   "execution_count": null,
   "metadata": {},
   "outputs": [],
   "source": [
    "## create strata based on gender, grade, and special education\n",
    "friendship_homerooms_wgender = friendship_homerooms_wgender %>%\n",
    "                    mutate(strata_name = ifelse(grade_9 == 1 & gender_final == \"female\",\n",
    "                                               \"9th grade female\",\n",
    "                                        ifelse(grade_9 == 1 & gender_final == \"male\",\n",
    "                                              \"9th grade male\",\n",
    "                                        ifelse(grade_10 == 1 & gender_final == \"female\",\n",
    "                                              \"10th grade female\",\n",
    "                                        ifelse(grade_10 == 1 & gender_final == \"male\",\n",
    "                                               \"10th grade male\",\n",
    "                                               \"Special education\")))))\n"
   ]
  },
  {
   "cell_type": "code",
   "execution_count": null,
   "metadata": {},
   "outputs": [],
   "source": [
    "## randomize within strata\n",
    "set.seed(91988)\n",
    "strata_levels = unique(friendship_homerooms_wgender$strata_name)\n",
    "friendship_randomization  = lapply(strata_levels,  blockrand_withstrata, \n",
    "                data = friendship_homerooms_wgender, \n",
    "               strata_varname = 'strata_name')"
   ]
  },
  {
   "cell_type": "code",
   "execution_count": null,
   "metadata": {
    "scrolled": true
   },
   "outputs": [],
   "source": [
    "friendship_randomization_df = do.call(rbind.data.frame,\n",
    "                                     friendship_randomization) %>%\n",
    "                        filter(!duplicated(teacher))\n",
    "\n",
    "## write results\n",
    "## write to csv\n",
    "write.csv(friendship_randomization_df, \"../randomization_status/friendship_teacherpilotstatus.csv\",\n",
    "          row.names = FALSE)\n",
    "\n",
    "friendship_randomization_df %>% filter(treatment == \"Pilot\") %>%\n",
    "                dplyr::select(teacher, grade_9, grade_10, special_education) %>%\n",
    "                arrange(grade_9, grade_10, special_education, teacher) %>%\n",
    "                filter(special_education == 1) %>%\n",
    "                dplyr::select(teacher)"
   ]
  },
  {
   "cell_type": "markdown",
   "metadata": {},
   "source": [
    "# 0. Looking at Paul"
   ]
  },
  {
   "cell_type": "code",
   "execution_count": null,
   "metadata": {},
   "outputs": [],
   "source": [
    "find_course_grade_periods_byteacher_noN <- function(data, teacher_identifier){\n",
    "    \n",
    "    ## initialize storage vectors\n",
    "    unique_courses = c()\n",
    "    unique_grades = c()\n",
    "    unique_periods = c()\n",
    "    \n",
    "    ## get all identifiers\n",
    "    all_teachers = unique(data[[teacher_identifier]])\n",
    "    \n",
    "    ## iterate through teachers\n",
    "    for(i in 1:length(all_teachers)){\n",
    "    \n",
    "        ## subset to one teacher teacher\n",
    "        one_teacher = data[data[[teacher_identifier]] == all_teachers[i], ]\n",
    "        print(sprintf(\"Returning values for %s\", all_teachers[i]))\n",
    "    \n",
    "        ## add their courses\n",
    "        unique_courses = c(unique_courses, paste(unique(one_teacher$course_name), collapse = \"; \"))\n",
    "        unique_grades  = c(unique_grades, paste(unique(one_teacher$Grade), collapse = \";\"))\n",
    "        unique_periods = c(unique_periods, paste(unique(one_teacher$period), collapse = \";\"))\n",
    "        \n",
    "    }\n",
    "    \n",
    "\n",
    "    \n",
    "    ## left join n students per teacher onto other teacher attributes\n",
    "    teacher_summary =data.frame(teacher_id = all_teachers,\n",
    "                            courses = unique_courses,\n",
    "                            grades = unique_grades,\n",
    "                            periods = unique_periods)\n",
    "    ## return data\n",
    "    return(teacher_summary)\n",
    "\n",
    "    \n",
    "}"
   ]
  },
  {
   "cell_type": "code",
   "execution_count": null,
   "metadata": {},
   "outputs": [],
   "source": [
    "paul_sis = read.csv(\"../data/paul_electives.csv\")\n",
    "paul_maskteachers = read.csv(\"../data/paul_maskteachers.csv\")\n",
    "paul_teachernames = paste(paul_maskteachers$teacher_name, collapse = \"|\")\n",
    "\n",
    "paul_ms = paul_sis %>% filter(Grade %in% c(6, 7, 8))\n",
    "paul_hs = paul_sis %>% filter(!Grade %in% c(6, 7, 8))\n",
    "\n",
    "paul_hs_science =  paul_hs %>% filter(grepl('science', Subject)) %>%\n",
    "                    filter(grepl(paul_teachernames, Primary.Teacher))\n",
    "unique(paul_hs_science$Primary.Teacher)\n",
    "\n",
    "paul_hs_science_courses = parse_course_info(paul_hs_science, \"Name\") %>%\n",
    "                                mutate(teacher = trimws(teacher)) \n",
    "\n",
    "\n",
    "paul_hs_science_summary = find_course_grade_periods_byteacher_noN(paul_hs_science_courses,\n",
    "                                                                 \"Primary.Teacher\") %>%\n",
    "                            mutate(strata_name = ifelse(grades %in% c(9, 10),\n",
    "                                                  \"9th and 10th grade\",\n",
    "                                                  \"11th and 12th grade\")) %>%\n",
    "                            arrange(desc(strata_name))\n",
    "\n",
    "paul_hs_science_summary\n",
    "\n",
    "## randomize\n",
    "set.seed(91988)\n",
    "strata_levels = unique(paul_hs_science_summary$strata_name)\n",
    "paul_hs_randomization = lapply(strata_levels,  blockrand_withstrata, \n",
    "                data = paul_hs_science_summary, \n",
    "               strata_varname = 'strata_name') \n",
    "\n",
    "paul_hs_randomization_df = do.call(rbind.data.frame, paul_hs_randomization)\n",
    "paul_hs_randomization_df\n"
   ]
  },
  {
   "cell_type": "code",
   "execution_count": null,
   "metadata": {},
   "outputs": [],
   "source": [
    "paul_ms_electives = paul_ms %>% filter(Subject == \"PE and health\" | Subject == \"other\")\n",
    "paul_ms_electives_courses = parse_course_info(paul_ms_electives, \"Name\") %>%\n",
    "                                mutate(teacher = trimws(teacher)) %>%\n",
    "                        filter(!grepl(\"Algebra\", course_name) &\n",
    "                              !grepl(\"Lunch\", course_name))\n",
    "\n",
    "paul_ms_electives_summary = find_course_grade_periods_byteacher_noN(paul_ms_electives_courses,\n",
    "                                                                 \"Primary.Teacher\") %>%\n",
    "                            filter(grepl(\"Physical\", courses)) %>%\n",
    "                            mutate(strata_name = \"one_strata\")\n",
    "\n",
    "strata_levels = unique(paul_ms_electives_summary$strata_name)\n",
    "paul_ms_randomization = lapply(strata_levels,  blockrand_withstrata, \n",
    "                data = paul_ms_electives_summary, \n",
    "               strata_varname = 'strata_name')\n",
    "\n",
    "paul_ms_randomization\n",
    "\n"
   ]
  },
  {
   "cell_type": "markdown",
   "metadata": {},
   "source": [
    "## Re-randomize for second-sem rollout"
   ]
  },
  {
   "cell_type": "code",
   "execution_count": null,
   "metadata": {},
   "outputs": [],
   "source": [
    "set.seed(040488)\n",
    "paul_ms_randomization_spring = lapply(strata_levels,  blockrand_withstrata, \n",
    "                data = paul_ms_electives_summary, \n",
    "               strata_varname = 'strata_name')\n",
    "\n",
    "paul_ms_randomization_spring"
   ]
  },
  {
   "cell_type": "markdown",
   "metadata": {},
   "source": [
    "# 1. CHEC HS randomization"
   ]
  },
  {
   "cell_type": "markdown",
   "metadata": {},
   "source": [
    "## 1.1 Load SIS data"
   ]
  },
  {
   "cell_type": "code",
   "execution_count": null,
   "metadata": {},
   "outputs": [],
   "source": [
    "# Load data\n",
    "chec_SIS = read.csv(\"../data/chec_ELA_fromSIS.csv\")\n",
    "chec_teachersexclude = read.csv(\"../data/chec_teachersexclude.csv\")\n",
    "\n",
    "# look at distribution of grades by teacher\n",
    "## before subsetting to HS teachers\n",
    "chec_distgrades = get_grades_eachteacher(data = chec_SIS, teacher_identifier = \"Teacher.Email\")\n",
    "\n"
   ]
  },
  {
   "cell_type": "code",
   "execution_count": null,
   "metadata": {},
   "outputs": [],
   "source": [
    "## subset to high school teachers\n",
    "chec_SIS_hs = chec_SIS %>% filter(Grade %in% c(9, 10, 11, 12))\n",
    "\n",
    "## add separated cols to data\n",
    "chec_SIS_hs_wcourse= parse_course_info(chec_SIS_hs, \"Name\")"
   ]
  },
  {
   "cell_type": "markdown",
   "metadata": {},
   "source": [
    "## 1.2 Explore data to figure out blocking (high school)"
   ]
  },
  {
   "cell_type": "code",
   "execution_count": null,
   "metadata": {},
   "outputs": [],
   "source": [
    "teacher_summary = find_course_grade_periods_byteacher(data = chec_SIS_hs_wcourse, \n",
    "                                          teacher_identifier = \"Teacher.Email\")"
   ]
  },
  {
   "cell_type": "code",
   "execution_count": null,
   "metadata": {},
   "outputs": [],
   "source": [
    "chec_SIS_forblock  = aggregate_courses_grades(chec_SIS_hs_wcourse,\n",
    "                               c(\"course_name\", \"Grade\"),\n",
    "                               \"Teacher.Email\",\n",
    "                               teacher_summary)"
   ]
  },
  {
   "cell_type": "code",
   "execution_count": null,
   "metadata": {},
   "outputs": [],
   "source": [
    "## clean up names\n",
    "clean_colnames = gsub(\"\\\\s+|\\\\&|course\\\\_name\", \"\", colnames(chec_SIS_forblock))\n",
    "colnames(chec_SIS_forblock) = clean_colnames\n",
    "\n",
    "sprintf(\"Data for blocking/randomization\")\n",
    "chec_SIS_forblock"
   ]
  },
  {
   "cell_type": "markdown",
   "metadata": {},
   "source": [
    "## 1.3 Randomize using blocking\n",
    "\n",
    "Vars to match on:\n",
    "\n",
    "- Total students a teacher has. Why? Capacity/burnout\n",
    "- Main courses: English I, English II, English III, English IV \n",
    "\n",
    "Why I didn't match on others:\n",
    "- Didn't block on extended literacy and reading support since those seem to occur at same time as the English I-IV courses\n",
    "- Didn't block on AP lang/lit since same teachers who teach English III teach AP lang; Same teachers who teach English IV teach AP lit, so can't have those as blocking vars due to singular matrix/etc..\n",
    "- Grade is same as course "
   ]
  },
  {
   "cell_type": "code",
   "execution_count": null,
   "metadata": {},
   "outputs": [],
   "source": [
    "## create diff matching formulas \n",
    "match_formula_course_students_grade = formula(sprintf(\"~ total_students + \n",
    "                                EnglishI + EnglishII + EnglishIII + EnglishIV + avg_grade\"))\n",
    "\n",
    "match_formula_students_grade =  formula(sprintf(\"~ total_students + avg_grade\"))\n",
    "\n",
    "match_formula_grade =  formula(sprintf(\"~ avg_grade\"))\n"
   ]
  },
  {
   "cell_type": "code",
   "execution_count": null,
   "metadata": {},
   "outputs": [],
   "source": [
    "chec_SIS_forblock_final = chec_SIS_forblock %>%\n",
    "                    filter(!teacher_id %in% chec_teachersexclude$teacher_email) \n",
    "nrow(chec_SIS_forblock_final)\n",
    "\n",
    "chec_SIS_forblock_final\n"
   ]
  },
  {
   "cell_type": "code",
   "execution_count": null,
   "metadata": {},
   "outputs": [],
   "source": [
    "## randomize\n",
    "## set seed\n",
    "set.seed(91988)\n",
    "randobj_match_coursestudentsgrade = randomize(chec_SIS_forblock_final,\n",
    "                 group = c(\"Pilot\", \"No pilot\"), # omitted ratio arg bc default is 0.5\n",
    "                 n.block = 7,\n",
    "                match = match_formula_course_students_grade ,\n",
    "                complete = TRUE)\n",
    "randobj_match_studentsgrade = randomize(chec_SIS_forblock_final,\n",
    "                 group = c(\"Pilot\", \"No pilot\"), # omitted ratio arg bc default is 0.5\n",
    "                 n.block = 7,\n",
    "                match = match_formula_students_grade ,\n",
    "                complete = TRUE)\n",
    "randobj_match_grade = randomize(chec_SIS_forblock_final,\n",
    "                 group = c(\"Pilot\", \"No pilot\"), # omitted ratio arg bc default is 0.5\n",
    "                 n.block = 7,\n",
    "                match = match_formula_grade ,\n",
    "                complete = TRUE)\n",
    "\n",
    "\n",
    "\n",
    "\n",
    "\n",
    "df_withpairs= randobj_match_studentsgrade$data\n",
    "df_withpairs = df_withpairs %>%\n",
    "             mutate(treatment_status_CSG = randobj_match_coursestudentsgrade[[\"treatment\"]],\n",
    "                    pair_id_CSG = randobj_match_coursestudentsgrade$match.id,\n",
    "                    treatment_status_SG = randobj_match_studentsgrade[[\"treatment\"]],\n",
    "                    pair_id_SG = randobj_match_studentsgrade$match.id,\n",
    "                    treatment_status_G = randobj_match_grade[[\"treatment\"]],\n",
    "                    pair_id_G = randobj_match_grade$match.id,\n",
    "                   Teacher.Email = chec_SIS_forblock_final$Teacher.Email)\n",
    "\n"
   ]
  },
  {
   "cell_type": "code",
   "execution_count": null,
   "metadata": {},
   "outputs": [],
   "source": [
    "## merge back with teacher summary and wide form pairs\n",
    "\n",
    "### summarize pairs\n",
    "df_withpairs_withattributes = merge(df_withpairs %>% dplyr::select(Teacher.Email, \n",
    "                                                                  contains(\"treatment_status_CSG\"),\n",
    "                                                                  contains(\"pair_id_CSG\")),\n",
    "                                   teacher_summary %>% dplyr::select(-excluded_in_handwritten), \n",
    "                                    by = \"Teacher.Email\", all.x = TRUE) %>%\n",
    "                                arrange(pair_id_CSG, treatment_status_CSG)\n",
    "\n",
    "df_withpairs_withattributes\n",
    "\n",
    "df_withpairs_withattributes_SG = merge(df_withpairs %>% dplyr::select(Teacher.Email, \n",
    "                                                                  contains(\"treatment_status_SG\"),\n",
    "                                                                  contains(\"pair_id_SG\")),\n",
    "                                   teacher_summary %>% dplyr::select(-excluded_in_handwritten), \n",
    "                                    by = \"Teacher.Email\", all.x = TRUE) %>%\n",
    "                                arrange(pair_id_SG, treatment_status_SG)\n",
    "\n",
    "df_withpairs_withattributes_SG\n",
    "\n",
    "df_withpairs_withattributes_G = merge(df_withpairs %>% dplyr::select(Teacher.Email, \n",
    "                                                                  contains(\"treatment_status_G\"),\n",
    "                                                                  contains(\"pair_id_G\")),\n",
    "                                   teacher_summary %>% dplyr::select(-excluded_in_handwritten), \n",
    "                                    by = \"Teacher.Email\", all.x = TRUE) %>%\n",
    "                                arrange(pair_id_G, treatment_status_G)\n",
    "\n",
    "df_withpairs_withattributes_G\n"
   ]
  },
  {
   "cell_type": "markdown",
   "metadata": {},
   "source": [
    "# 1.3 Write results"
   ]
  },
  {
   "cell_type": "code",
   "execution_count": null,
   "metadata": {},
   "outputs": [],
   "source": [
    "pilot_teachers = chec_SIS_hs_wcourse %>%\n",
    "                filter(Teacher.Email %in% \n",
    "                       (df_withpairs_withattributes %>% filter(treatment_status_CSG == \"Pilot\"))$Teacher.Email) %>%\n",
    "                arrange(Primary.Teacher, period)\n",
    "pilot_teachers\n"
   ]
  },
  {
   "cell_type": "code",
   "execution_count": null,
   "metadata": {},
   "outputs": [],
   "source": [
    "## merge back with teacher name\n",
    "pilot_teachers = chec_SIS_hs[chec_SIS_hs['Teacher.Email'].isin(df_withpairs_withattributes['Teacher.Email'])]\n",
    "pilot_teachers"
   ]
  },
  {
   "cell_type": "code",
   "execution_count": null,
   "metadata": {},
   "outputs": [],
   "source": [
    "## write two versions of the results\n",
    "\n",
    "## version one for school: teacher names and emails for pilot group\n",
    "teachers_in_pilot = df_withpairs_withattributes %>% filter(treatment_status_CSG == \"Pilot\") %>%\n",
    "                        dplyr::select(Teacher.Email) %>%\n",
    "                        left_join(chec_SIS_hs %>% dplyr::select(Teacher.Email, Primary.Teacher) %>%\n",
    "                                         filter(!duplicated(Teacher.Email)),\n",
    "                                 by = \"Teacher.Email\")\n",
    "teachers_in_pilot\n",
    "##write.csv(teachers_in_pilot,\n",
    "  ##        \"../randomization_status/teachers_in_pilot_FORSCHOOL.csv\",\n",
    "    ##      row.names = FALSE)\n",
    "\n",
    "## version two for us: all name/info\n",
    "##write.csv(df_withpairs_withattributes_SG, \n",
    "  ##        \"../randomization_status/teachers_in_pilot_FORLAB.csv\")\n",
    "\n"
   ]
  },
  {
   "cell_type": "markdown",
   "metadata": {},
   "source": [
    "# 1.4 Use whole roster to create list of teachers to exclude\n"
   ]
  },
  {
   "cell_type": "code",
   "execution_count": null,
   "metadata": {},
   "outputs": [],
   "source": [
    "pilot_teachers_chec = read.csv(\"../randomization_status/teachers_in_pilot_FORSCHOOL.csv\")"
   ]
  },
  {
   "cell_type": "code",
   "execution_count": null,
   "metadata": {},
   "outputs": [],
   "source": [
    "chec_yl_all = read.csv(\"../data/chec_yl_all.csv\")\n",
    "chec_t1_all = read.csv(\"../data/chec_t1_all.csv\")"
   ]
  },
  {
   "cell_type": "code",
   "execution_count": null,
   "metadata": {},
   "outputs": [],
   "source": [
    "chec_yl_all_wcourses = parse_course_info(data = chec_yl_all, colname = \"Name\")\n",
    "chec_yl_all_wcourses_hs = chec_yl_all_wcourses[chec_yl_all_wcourses[['Grade']] %in% c(9, 10, 11, 12), ]\n",
    "chec_t1_all_wcourses = parse_course_info(data = chec_t1_all, colname = \"Name\")\n",
    "chec_t1_all_wcourses_hs = chec_t1_all_wcourses[chec_t1_all_wcourses[['Grade']] %in% c(9, 10, 11, 12), ]\n"
   ]
  },
  {
   "cell_type": "code",
   "execution_count": null,
   "metadata": {},
   "outputs": [],
   "source": [
    "##bind into one\n",
    "chec_all = rbind.data.frame(chec_t1_all_wcourses_hs,\n",
    "                           chec_yl_all_wcourses_hs)\n",
    "head(chec_all)"
   ]
  },
  {
   "cell_type": "code",
   "execution_count": null,
   "metadata": {},
   "outputs": [],
   "source": [
    "sprintf(\"CHEC has %s unique teachers teaching %s unique courses (either half-year or full year) before removing pilot\",\n",
    "       length(unique(chec_all[['Primary.Teacher']])),\n",
    "       length(unique(chec_all[['course_name']])))"
   ]
  },
  {
   "cell_type": "code",
   "execution_count": null,
   "metadata": {},
   "outputs": [],
   "source": [
    "## remove pilot teachers \n",
    "nonpilot_teachers = setdiff(chec_all[['Primary.Teacher']], pilot_teachers_chec[['Primary.Teacher']])"
   ]
  },
  {
   "cell_type": "code",
   "execution_count": null,
   "metadata": {},
   "outputs": [],
   "source": [
    "## look at two intersections\n",
    "pilot_notin_roster = setdiff(pilot_teachers_chec[['Primary.Teacher']], chec_all[['Primary.Teacher']])\n",
    "sprintf(\"Pilot teachers not on updated roster: %s\", pilot_notin_roster)\n",
    "\n",
    "## check if in there without a middle name\n",
    "alternate_names_pilot = unique(grep(chec_alternatenames, chec_all[['Primary.Teacher']], value = TRUE))\n",
    "admin_find = unique(grep(chec_admin,\n",
    "                 chec_all[['Primary.Teacher']], value = TRUE))\n",
    "\n",
    "sprintf(\"Pilot teachers' alternate names to exclude: %s\", alternate_names_pilot)\n",
    "sprintf(\"Admins to exclude: %s\", admin_find)\n"
   ]
  },
  {
   "cell_type": "code",
   "execution_count": null,
   "metadata": {},
   "outputs": [],
   "source": [
    "## teachers to active are: 1. pilot teachers, 2. alternate spelling of two \n",
    "## pilot teachers, and admins\n",
    "teachers_dontblock= c(intersect(pilot_teachers_chec[['Primary.Teacher']],\n",
    "                                   chec_all[['Primary.Teacher']]), admin_find, alternate_names_pilot)\n",
    "sprintf(\"Teachers or admins whose accounts shouldnt be suspended: %s\", paste(teachers_dontblock, collapse = \";\"))"
   ]
  },
  {
   "cell_type": "code",
   "execution_count": null,
   "metadata": {},
   "outputs": [],
   "source": [
    "## read in file that has teacher emails\n",
    "full_roster_emails = read.csv(\"../data/chec_fullroster_fromSIS.csv\")\n",
    "\n",
    "## get ids and names for teachers to suspend\n",
    "teachers_tosuspend = chec_all %>% filter(!Primary.Teacher %in% teachers_dontblock &\n",
    "                                        !Teacher.ID == \"#N/A\") %>%\n",
    "                    dplyr::select(Primary.Teacher, Teacher.ID) %>%\n",
    "                    mutate(last_name = gsub(\".*\\\\s\", \"\", Primary.Teacher)) %>%\n",
    "                    arrange(last_name) %>%\n",
    "                    dplyr::select(-last_name) %>%\n",
    "                    filter(!duplicated(Teacher.ID)) \n"
   ]
  },
  {
   "cell_type": "code",
   "execution_count": null,
   "metadata": {},
   "outputs": [],
   "source": [
    "teachers_tosuspend_wemails = merge(teachers_tosuspend, \n",
    "                                 full_roster_emails %>% dplyr::select(Email, Teacher.ID),\n",
    "                                 by = \"Teacher.ID\",\n",
    "                                 all.x = TRUE) %>%\n",
    "                            arrange(Email)"
   ]
  },
  {
   "cell_type": "code",
   "execution_count": null,
   "metadata": {},
   "outputs": [],
   "source": [
    "\n",
    "\n",
    "write.csv(teachers_tosuspend_wemails, \"../randomization_status/CHEC_teacherstosuspend.csv\", row.names = FALSE)"
   ]
  },
  {
   "cell_type": "markdown",
   "metadata": {},
   "source": [
    "# 2. CHEC MS \n"
   ]
  },
  {
   "cell_type": "code",
   "execution_count": null,
   "metadata": {},
   "outputs": [],
   "source": [
    "chec_t1 = read.csv(\"../data/chec_t1_all.csv\") %>% mutate(course_type = \"term1_only\")\n",
    "chec_yl = read.csv(\"../data/chec_yl_all.csv\") %>% mutate(course_type = \"yearlong\")\n",
    "\n",
    "chec_all = rbind.data.frame(chec_t1, chec_yl) \n",
    "chec_ELA_MS = chec_all %>% filter(Subject == \"english/language arts\" &\n",
    "                        Grade %in% c(6, 7, 8) &\n",
    "                        !Primary.Teacher %in% chec_ms_remove)\n",
    "\n",
    "\n",
    "## parse name col into course_name, teacher_period\n",
    "chec_ELA_ms_wcourse =  parse_course_info(chec_ELA_MS, \"Name\")\n",
    "\n",
    "## create wide form teacher summary\n",
    "chec_ELA_ms_teachersummary = find_course_grade_periods_byteacher(data = chec_ELA_ms_wcourse, \n",
    "                                          teacher_identifier = \"Primary.Teacher\") %>%\n",
    "                            arrange(teacher_id)\n",
    "\n",
    "chec_ELA_ms_teachersummary\n",
    "\n",
    "chec_SIS_forblock_ms  = aggregate_courses_grades(chec_ELA_ms_wcourse,\n",
    "                               c(\"course_name\", \"Grade\"),\n",
    "                               \"Primary.Teacher\",\n",
    "                               chec_ELA_ms_teachersummary)\n",
    "\n",
    "chec_SIS_forblock_ms\n",
    "\n",
    "clean_colnames = gsub(\"\\\\s+|\\\\&|course\\\\_name\", \"\", colnames(chec_SIS_forblock_ms))\n",
    "colnames(chec_SIS_forblock_ms) = clean_colnames\n",
    "chec_SIS_forblock_ms = chec_SIS_forblock_ms %>% mutate(strata_name = \n",
    "                                ifelse(avg_grade == 6, \n",
    "                                \"6th grade only\",\n",
    "                                ifelse(avg_grade > 6 & avg_grade < 8,\n",
    "                                \"Mixed grades\",\n",
    "                                \"8th grade only\"))) %>% arrange(avg_grade)\n",
    "\n",
    "sprintf(\"Data for blocking/randomization\")\n",
    "chec_SIS_forblock_ms\n"
   ]
  },
  {
   "cell_type": "code",
   "execution_count": null,
   "metadata": {},
   "outputs": [],
   "source": [
    "\n",
    "set.seed(91988)\n",
    "\n",
    "strata_levels= unique(chec_SIS_forblock_ms$strata_name)\n",
    "chec_ms_randomization = lapply(strata_levels, \n",
    "                               blockrand_withstrata, \n",
    "                               data = chec_SIS_forblock_ms, \n",
    "                               strata_varname = 'strata_name')\n",
    "chec_ms_randomization_tobind = lapply(chec_ms_randomization, function(x) x %>% dplyr::select(-id, -block.id,\n",
    "                                                                                            -block.size))\n",
    "\n",
    "chec_ms_randomization_all = do.call(rbind.data.frame, chec_ms_randomization_tobind)\n",
    "\n",
    "## summarize\n",
    "chec_ms_randomization_all %>% arrange(avg_grade, treatment)\n",
    "write.csv(chec_ms_randomization_all,\n",
    "          \"../randomization_status/chec_MS_teacherpilotstatus.csv\", row.names = FALSE)\n",
    "                                      \n",
    "full_roster_emails = read.csv(\"../data/chec_fullroster_fromSIS.csv\") %>%\n",
    "                                mutate(teacher_id = sprintf(\"%s %s\", First, Last))\n",
    "chec_ms_randomization_all_wemail = merge(chec_ms_randomization_all,\n",
    "                                        full_roster_emails %>% dplyr::select(teacher_id, Email),\n",
    "                                        all.x = TRUE)\n",
    "chec_ms_randomization_all_wemail %>% filter(treatment == \"Pilot\") %>% dplyr::select(Email)\n",
    "                                      "
   ]
  },
  {
   "cell_type": "markdown",
   "metadata": {},
   "source": [
    "# 3. Anacostia"
   ]
  },
  {
   "cell_type": "code",
   "execution_count": null,
   "metadata": {},
   "outputs": [],
   "source": [
    "anacostia_t1 = read.csv(\"../data/anacostia_t1_all.csv\") %>% mutate(course_type = \"term1_only\")\n",
    "anacostia_yl = read.csv(\"../data/anacostia_yl_all.csv\") %>% mutate(course_type = \"yearlong\")\n",
    "anacostia_socialstudies = read.csv(\"../data/socialstudies_teachers.csv\")\n",
    "\n",
    "## create a single dataset with\n",
    "## both term1 and yl\n",
    "anacostia_both = rbind.data.frame(anacostia_t1, anacostia_yl)\n"
   ]
  },
  {
   "cell_type": "code",
   "execution_count": null,
   "metadata": {},
   "outputs": [],
   "source": [
    "# look at distribution of grades by teacher\n",
    "## before subsetting to HS teachers\n",
    "anacostia_distgrades = get_grades_eachteacher(data = anacostia_yl, \n",
    "                                              teacher_identifier = \"Primary.Teacher\")\n",
    "#anacostia_distgrades\n",
    "\n",
    "## already only contains HS teachers, which makes sense"
   ]
  },
  {
   "cell_type": "code",
   "execution_count": null,
   "metadata": {},
   "outputs": [],
   "source": [
    "## clean up course - teacher-period col so that \n",
    "## splitting on \"-\" delimiter produces correct columns\n",
    "anacostia_both = anacostia_both %>% mutate(name_clean_1 = gsub(hyphen_name, \n",
    "                                                    hyphen_name_nohyphen, Name),\n",
    "                                        name_clean_2 = gsub(\"JROTC\\\\s\\\\-\\\\sLET\", \n",
    "                                                           \"JROTC_LET\",\n",
    "                                                           name_clean_1),\n",
    "                                        name_clean_3 = gsub(\"Lab\\\\-Self\", \"Lab Self\",\n",
    "                                                           name_clean_2),\n",
    "                                        name_clean_4 = gsub(\"Geo\\\\sI\\\\-[A|B]\", \"Geo_I_AorB\",\n",
    "                                                           name_clean_3),\n",
    "                                        name_clean_5 = gsub(\"Pre\\\\-AP\", \"PreAP\",\n",
    "                                                           name_clean_4),\n",
    "                                        name_clean_6 = gsub(\"II\\\\-RE2\", \"II\\\\_RE2\", name_clean_5)) %>%\n",
    "                                dplyr::select(-name_clean_1, -name_clean_2, -name_clean_3, -name_clean_4,\n",
    "                                             -name_clean_5)\n"
   ]
  },
  {
   "cell_type": "code",
   "execution_count": null,
   "metadata": {},
   "outputs": [],
   "source": [
    "## parse name col into course_name, teacher_period\n",
    "anacostia_wcourse =  parse_course_info(anacostia_both, \"name_clean_6\")\n",
    "head(anacostia_wcourse)"
   ]
  },
  {
   "cell_type": "code",
   "execution_count": null,
   "metadata": {},
   "outputs": [],
   "source": [
    "## subset to social studies teachers they provided\n",
    "## and code electives\n",
    "## code courses to requested or electives\n",
    "electives = c(\"African American History & Culture\", \n",
    "             \"Sociology\")\n",
    "anacostia_wcourse_socstudies = anacostia_wcourse %>% filter(Primary.Teacher %in% \n",
    "                                                           ## filter to social studies teachers school confirmed \n",
    "                                    anacostia_socialstudies$teachername) %>%\n",
    "                            mutate(course_clean = trimws(course_name),\n",
    "                                elective = ifelse(course_clean %in% electives, 1, 0)) %>%\n",
    "                            filter(course_clean != \"Writing Workshop IA\")\n",
    "\n",
    "## count of students of those teachers in electives\n",
    "anacostia_wcourse_socstudies %>% group_by(elective) %>% summarise(count_students = sum(Students))\n"
   ]
  },
  {
   "cell_type": "code",
   "execution_count": null,
   "metadata": {},
   "outputs": [],
   "source": [
    "anacostia_teachersummary_socstudies = find_course_grade_periods_byteacher(data = anacostia_wcourse_socstudies, \n",
    "                                          teacher_identifier = \"Primary.Teacher\") %>%\n",
    "                            mutate(strata_name = \n",
    "                                      ifelse(grades == \"12;11\",\n",
    "                                    \"11th and 12 graders\",\n",
    "                                    ifelse(teacher_id %in% anacostia_specialeducation,\n",
    "                                    \"Special education\",\n",
    "                                    \"Other\")))\n",
    "\n",
    "\n",
    "strata_levels= unique(anacostia_teachersummary_socstudies$strata_name)\n",
    "set.seed(91988)\n",
    "anacostia_randomization  = lapply(strata_levels, \n",
    "                               blockrand_withstrata, \n",
    "                               data = anacostia_teachersummary_socstudies, \n",
    "                               strata_varname = 'strata_name')\n",
    "\n",
    "anacostia_randomization_all = do.call(rbind.data.frame, anacostia_randomization)\n",
    "\n",
    "## merge additional info\n",
    "anacostia_randomization_all_wid = merge(anacostia_randomization_all,\n",
    "                                       anacostia_both %>% dplyr::select(Primary.Teacher,\n",
    "                                                                       Teacher.ID) %>% filter(!duplicated(Teacher.ID)),\n",
    "                                       by.x = \"teacher_id\",\n",
    "                                       by.y = \"Primary.Teacher\")\n"
   ]
  },
  {
   "cell_type": "code",
   "execution_count": null,
   "metadata": {},
   "outputs": [],
   "source": [
    "## merge with emails from roster\n",
    "anacostia_fullroster = read.csv(\"../data/anacostia_fullroster_fromSIS.csv\")"
   ]
  },
  {
   "cell_type": "code",
   "execution_count": null,
   "metadata": {},
   "outputs": [],
   "source": [
    "anacostia_randomization_all_wid_wemail = merge(anacostia_randomization_all_wid,\n",
    "                                              anacostia_fullroster %>% dplyr::select(Teacher.ID, Email),\n",
    "                                              by = \"Teacher.ID\") %>% arrange(strata_name)\n",
    "anacostia_randomization_all_wid_wemail %>% arrange(strata_name)"
   ]
  },
  {
   "cell_type": "code",
   "execution_count": null,
   "metadata": {},
   "outputs": [],
   "source": [
    "## write to csv\n",
    "write.csv(anacostia_randomization_all_wid_wemail, \"../randomization_status/anacostia_teacherpilotstatus.csv\",\n",
    "          row.names = FALSE)"
   ]
  },
  {
   "cell_type": "markdown",
   "metadata": {},
   "source": [
    "# 4. Dunbar"
   ]
  },
  {
   "cell_type": "code",
   "execution_count": null,
   "metadata": {},
   "outputs": [],
   "source": [
    "dunbar_t1 = read.csv(\"../data/dunbar_t1_all.csv\") %>% mutate(course_type = \"term1_only\")\n",
    "dunbar_yl = read.csv(\"../data/dunbar_yl_all.csv\") %>% mutate(course_type = \"yearlong\")\n",
    "\n",
    "## create a single dataset with\n",
    "## both term1 and yl\n",
    "dunbar_both = rbind.data.frame(dunbar_t1, dunbar_yl)"
   ]
  },
  {
   "cell_type": "code",
   "execution_count": null,
   "metadata": {},
   "outputs": [],
   "source": [
    "## look at distribution of grades \n",
    "## within each teacher \n",
    "dunbar_distgrades = get_grades_eachteacher(data = dunbar_both, \n",
    "                                              teacher_identifier = \"Primary.Teacher\")"
   ]
  },
  {
   "cell_type": "code",
   "execution_count": null,
   "metadata": {},
   "outputs": [],
   "source": [
    "## subset to ELA only\n",
    "dunbar_ela = dunbar_both %>% filter(Subject == \"english/language arts\" |\n",
    "                                   Primary.Teacher == dunbar_additionalteacher) \n",
    "\n",
    "## keep all grades since some teachers teach\n",
    "## across multiple grades\n",
    "## parse name col into course_name, teacher_period\n",
    "dunbar_ela = dunbar_ela %>% mutate(name_clean = gsub(\"Pre\\\\-AP\", \"PreAP\",\n",
    "                                                    Name),\n",
    "                                  name_clean_2 = gsub(\"Pre\\\\-Algebra\", \"PreAlgebra\",\n",
    "                                                     name_clean))\n",
    "\n",
    "\n"
   ]
  },
  {
   "cell_type": "code",
   "execution_count": null,
   "metadata": {},
   "outputs": [],
   "source": [
    "dunbar_ela_wcourses = parse_course_info(dunbar_ela, \"name_clean_2\")\n",
    "\n",
    "dunbar_ela_wcourses_onlyyl = dunbar_ela_wcourses %>% filter(course_type != \"term1_only\")"
   ]
  },
  {
   "cell_type": "code",
   "execution_count": null,
   "metadata": {},
   "outputs": [],
   "source": [
    "dunbar_teachersummary_ela = find_course_grade_periods_byteacher(data = dunbar_ela_wcourses_onlyyl, \n",
    "                                          teacher_identifier = \"Primary.Teacher\") %>%\n",
    "                        arrange(grades)\n",
    "\n",
    "dunbar_teachersinpool = dunbar_teachersummary_ela %>% filter((grades == 9 | grades == 10 |\n",
    "                                    grepl(dunbar_teacherkeep, teacher_id)) &\n",
    "                                    !grepl(dunbar_teachremove, teacher_id))\n",
    "\n"
   ]
  },
  {
   "cell_type": "code",
   "execution_count": null,
   "metadata": {},
   "outputs": [],
   "source": [
    "dunbar_teachersummary_ela"
   ]
  },
  {
   "cell_type": "code",
   "execution_count": null,
   "metadata": {},
   "outputs": [],
   "source": [
    "\n",
    "dunbar_teachersinpool = dunbar_teachersinpool %>% mutate(strata_name = ifelse(grepl(large_classteachers, \n",
    "                            teacher_id),\n",
    "                                        \"Many students\",\n",
    "                        \"Few students\"))\n",
    "dunbar_teachersinpool\n",
    "\n"
   ]
  },
  {
   "cell_type": "code",
   "execution_count": null,
   "metadata": {},
   "outputs": [],
   "source": [
    "strata_levels= unique(dunbar_teachersinpool$strata_name)\n",
    "set.seed(91988)\n",
    "dunbar_randomization  = lapply(strata_levels, \n",
    "                               blockrand_withstrata, \n",
    "                               data = dunbar_teachersinpool, \n",
    "                               strata_varname = 'strata_name')\n",
    "\n",
    "dunbar_randomization_all = do.call(rbind.data.frame, dunbar_randomization)\n",
    "\n",
    "## merge additional info\n",
    "dunbar_randomization_all_wid = merge(dunbar_randomization_all,\n",
    "                                       dunbar_both %>% dplyr::select(Primary.Teacher,\n",
    "                                                                       Teacher.ID) %>% filter(!duplicated(Teacher.ID)),\n",
    "                                       by.x = \"teacher_id\",\n",
    "                                       by.y = \"Primary.Teacher\") %>% arrange(strata_name) %>%\n",
    "                            dplyr::select(teacher_id, treatment, courses, grades, total_students, strata_name)\n",
    "dunbar_randomization_all_wid\n",
    "\n",
    "## merge with email from SIS\n",
    "dunbar_randomization_all_wid %>% filter(treatment == \"Pilot\")\n"
   ]
  },
  {
   "cell_type": "code",
   "execution_count": null,
   "metadata": {},
   "outputs": [],
   "source": [
    "write.csv(dunbar_randomization_all_wid, \"../randomization_status/dunbar_teacherpilotstatus.csv\",\n",
    "         row.names = FALSE)"
   ]
  },
  {
   "cell_type": "markdown",
   "metadata": {},
   "source": [
    "# 5. Johnson"
   ]
  },
  {
   "cell_type": "code",
   "execution_count": null,
   "metadata": {},
   "outputs": [],
   "source": [
    "find_course_grade_periods_byteacher_studlevel <- function(data, teacher_identifier){\n",
    "    \n",
    "    ## initialize storage vectors\n",
    "    unique_courses = c()\n",
    "    unique_grades = c()\n",
    "    unique_periods = c()\n",
    "    \n",
    "    ## get all identifiers\n",
    "    all_teachers = unique(data[[teacher_identifier]])\n",
    "    \n",
    "    ## iterate through teachers\n",
    "    for(i in 1:length(all_teachers)){\n",
    "    \n",
    "        ## subset to one teacher teacher\n",
    "        one_teacher = data[data[[teacher_identifier]] == all_teachers[i], ]\n",
    "        print(sprintf(\"Returning values for %s\", all_teachers[i]))\n",
    "    \n",
    "        ## add their courses\n",
    "        unique_courses = c(unique_courses, paste(unique(one_teacher$course_name), collapse = \"; \"))\n",
    "        unique_grades  = c(unique_grades, paste(unique(one_teacher$StudentGrade), collapse = \";\"))\n",
    "        unique_periods = c(unique_periods, paste(unique(one_teacher$period), collapse = \";\"))\n",
    "        \n",
    "    }\n",
    "    \n",
    "    ## get number of students per teacher\n",
    "    n_students_perteacher = data %>% group_by_at(vars(one_of(teacher_identifier))) %>% \n",
    "                            summarise(total_students = length(unique(StudentID)))\n",
    "    \n",
    "    ## left join n students per teacher onto other teacher attributes\n",
    "    teacher_summary =merge(data.frame(teacher_id = all_teachers,\n",
    "                            courses = unique_courses,\n",
    "                            grades = unique_grades,\n",
    "                            periods = unique_periods),\n",
    "                           n_students_perteacher,\n",
    "                            by.x = \"teacher_id\",\n",
    "                           by.y = teacher_identifier,\n",
    "                           all.x = TRUE)\n",
    "    ## return data\n",
    "    return(teacher_summary)\n",
    "\n",
    "    \n",
    "}\n",
    "\n",
    "aggregate_courses_grades_studlevel <- function(longform_data, vars_finddummies, teacher_identifier,\n",
    "                                    wide_teacher_summary){\n",
    "    \n",
    "    ## first create dummy vars\n",
    "    dummy_vars =  model.matrix(formula(sprintf(\"~ %s - 1\",\n",
    "                                      paste(vars_finddummies, \n",
    "                                           collapse = \"+\"))), data=longform_data)\n",
    "    \n",
    "    ## add to original data\n",
    "    data_withdummies = cbind.data.frame(longform_data, dummy_vars)\n",
    "    \n",
    "    ## above creates longform data \n",
    "    ## find how many times a teacher teaches each course\n",
    "    ## and find avg grade they teach\n",
    "    total_courses_byteacher = data_withdummies %>%\n",
    "                        dplyr::select(-course_name) %>%\n",
    "                         group_by_at(vars(one_of(teacher_identifier))) %>%\n",
    "                         summarise_at(vars(contains(\"course_name\")), \n",
    "                         ~sum(.x)) \n",
    "    \n",
    "    avg_grade_byteacher = longform_data %>%\n",
    "            group_by_at(vars(one_of(teacher_identifier))) %>%\n",
    "            mutate(grade_numeric = as.numeric(as.character(StudentGrade))) %>%\n",
    "            summarise(avg_grade = mean(grade_numeric))\n",
    "    \n",
    "    ## merge with summaries\n",
    "\n",
    "    teacher_summary_wcourses = merge(wide_teacher_summary,\n",
    "                                    total_courses_byteacher,\n",
    "                                    by.x = \"teacher_id\",\n",
    "                                    by.y = teacher_identifier)\n",
    "    teacher_summary_all = merge(teacher_summary_wcourses,\n",
    "                               avg_grade_byteacher,\n",
    "                               by.x = \"teacher_id\",\n",
    "                                by.y = teacher_identifier)\n",
    "    return(teacher_summary_all)\n",
    "    \n",
    "}"
   ]
  },
  {
   "cell_type": "code",
   "execution_count": null,
   "metadata": {},
   "outputs": [],
   "source": [
    "johnson = read.csv(\"../data/Johnson MS Rosters for Randomization.csv\")\n",
    "\n",
    "## parse courses\n",
    "johnson_interest = johnson %>%\n",
    "                filter(grepl(\"Advisory|Math|Science\", ClassName))\n",
    "\n",
    "johnson_wcourses = parse_course_info(johnson_interest, \"ClassName\") %>%\n",
    "                mutate(type = case_when(grepl(\"Advisory\", course_name) ~ \"Advisory\",\n",
    "                            grepl(\"Math\", course_name) ~ \"Math\",\n",
    "                            grepl(\"Science\", course_name) ~ \"Science\",\n",
    "                            TRUE ~ \"Other\"))\n",
    "\n",
    "johnson_teachersummary_advisory = find_course_grade_periods_byteacher_studlevel(data = johnson_wcourses %>%\n",
    "                                                                filter(type == \"Advisory\"), \n",
    "                                          teacher_identifier = \"TeacherEmail1\") %>%\n",
    "                        arrange(grades)\n",
    "\n",
    "johnson_teachersummary_advisory = find_course_grade_periods_byteacher_studlevel(data = johnson_wcourses %>%\n",
    "                                                                filter(type == \"Advisory\"), \n",
    "                                          teacher_identifier = \"TeacherEmail1\") %>%\n",
    "                        arrange(grades) %>%\n",
    "                        mutate(grades_coarse = ifelse(grades == \"6\", \"6\",\n",
    "                                                ifelse(grades == \"7\", \"7\",\n",
    "                                                ifelse(grades == \"8\", \"8\", \"Mixed\"))))\n",
    "\n",
    "head(johnson_teachersummary_advisory)"
   ]
  },
  {
   "cell_type": "code",
   "execution_count": null,
   "metadata": {},
   "outputs": [],
   "source": [
    "set.seed(21483)\n",
    "\n",
    "## separate by grade\n",
    "match_result = randomize(johnson_teachersummary_advisory,\n",
    "                 group = c(\"Pilot\", \"No pilot\"), # omitted ratio arg bc default is 0.5\n",
    "                 n.block = nrow(johnson_teachersummary_advisory)/2,\n",
    "                match = formula(sprintf(\"~ %s\", \"total_students\")),\n",
    "                complete = TRUE)\n",
    "\n",
    "match_result\n",
    "\n",
    "df_withpairs = match_result$data %>%\n",
    "             mutate(treatment_status = match_result[[\"treatment\"]],\n",
    "                    pair_id = match_result$match.id,\n",
    "                   teacher_id = johnson_teachersummary_advisory$teacher_id)\n",
    "#df_withpairs\n",
    "\n",
    "df_withpairs_withattributes = merge(df_withpairs,\n",
    "                                   johnson_teachersummary_advisory %>% dplyr::select(-total_students, -periods), \n",
    "                                    by = \"teacher_id\", all.x = TRUE) %>%\n",
    "                                arrange(pair_id, treatment_status)\n",
    "\n",
    "df_withpairs_withattributes \n",
    "\n",
    "## filter to pilot\n",
    "df_withpairs_withattributes %>% filter(treatment_status == \"Pilot\") %>% dplyr::select(teacher_id)"
   ]
  },
  {
   "cell_type": "code",
   "execution_count": null,
   "metadata": {},
   "outputs": [],
   "source": [
    "johnson_teachersummary_math = find_course_grade_periods_byteacher_studlevel(data = johnson_wcourses %>%\n",
    "                                                                filter(type == \"Math\"), \n",
    "                                          teacher_identifier = \"TeacherEmail1\") %>%\n",
    "                        arrange(grades)\n",
    "\n",
    "johnson_teachersummary_math = find_course_grade_periods_byteacher_studlevel(data = johnson_wcourses %>%\n",
    "                                                                filter(type == \"Math\"), \n",
    "                                          teacher_identifier = \"TeacherEmail1\") %>%\n",
    "                        arrange(grades) %>%\n",
    "                        mutate(grades_coarse = ifelse(grades == \"6\", \"6\",\n",
    "                                                ifelse(grades == \"7\", \"7\",\n",
    "                                                ifelse(grades == \"8\", \"8\", \"Mixed\"))),\n",
    "                               strata = ifelse(grades_coarse %in% c(\"6\", \"7\"),\n",
    "                                              \"Sixth and seventh\",\n",
    "                                \"8th and mixed\"))\n",
    "\n",
    "johnson_teachersummary_math\n",
    "\n",
    "\n",
    "## create blocks for math (no formula since small N and randomize)\n",
    "strata_levels= unique(johnson_teachersummary_math$strata)\n",
    "set.seed(91988)\n",
    "johnson_randomization  = lapply(strata_levels, \n",
    "                               blockrand_withstrata, \n",
    "                               data = johnson_teachersummary_math, \n",
    "                               strata_varname = 'strata')\n",
    "\n",
    "johnson_randomization_all = do.call(rbind.data.frame, johnson_randomization)\n",
    "\n",
    "johnson_randomization_all %>% arrange(treatment)\n",
    "\n",
    "johnson_randomization_all %>% filter(treatment == \"Pilot\") %>% dplyr::select(teacher_id)\n",
    "\n",
    "tx_teachers = (johnson_randomization_all %>% filter(treatment == \"Pilot\") %>% dplyr::select(teacher_id))$teacher_id\n",
    "control_teachers = (johnson_randomization_all %>% filter(treatment == \"Not pilot\") %>% dplyr::select(teacher_id))$teacher_id\n",
    "\n",
    "control_teachers"
   ]
  },
  {
   "cell_type": "code",
   "execution_count": null,
   "metadata": {},
   "outputs": [],
   "source": []
  },
  {
   "cell_type": "code",
   "execution_count": null,
   "metadata": {},
   "outputs": [],
   "source": [
    "## look at overlap in students\n",
    "johnson_wcourses_overlap = johnson_wcourses %>%\n",
    "                    mutate(tx = ifelse(TeacherEmail1 %in%  tx_teachers, 1, 0),\n",
    "                          control = ifelse(TeacherEmail1 %in% control_teachers, 1, 0)) %>%\n",
    "                    group_by(StudentID) %>%\n",
    "                    summarise(all_tx = paste(tx, collapse = \";\"),\n",
    "                             all_control = paste(control, collapse = \";\"),\n",
    "                             crossover = ifelse(grepl(\"1\", all_tx) & grepl(\"1\", all_control), 1, 0))\n",
    "\n",
    "table(johnson_wcourses_overlap$crossover)\n",
    "\n",
    "16/length(unique(johnson_wcourses_overlap$StudentID))"
   ]
  },
  {
   "cell_type": "code",
   "execution_count": null,
   "metadata": {},
   "outputs": [],
   "source": [
    "johnson_teachersummary_science = find_course_grade_periods_byteacher_studlevel(data = johnson_wcourses %>%\n",
    "                                                                filter(type == \"Science\"), \n",
    "                                          teacher_identifier = \"TeacherEmail1\") %>%\n",
    "                        arrange(grades)\n",
    "\n",
    "johnson_teachersummary_science = find_course_grade_periods_byteacher_studlevel(data = johnson_wcourses %>%\n",
    "                                                                filter(type == \"Science\"), \n",
    "                                          teacher_identifier = \"TeacherEmail1\") %>%\n",
    "                        arrange(grades) %>%\n",
    "                        mutate(grades_coarse = ifelse(grades == \"6\", \"6\",\n",
    "                                                ifelse(grades == \"7\", \"7\",\n",
    "                                                ifelse(grades == \"8\", \"8\", \"Mixed\"))))\n",
    "\n",
    "johnson_teachersummary_science"
   ]
  },
  {
   "cell_type": "code",
   "execution_count": null,
   "metadata": {},
   "outputs": [],
   "source": []
  }
 ],
 "metadata": {
  "kernelspec": {
   "display_name": "Python 3 (ipykernel)",
   "language": "python",
   "name": "python3"
  },
  "language_info": {
   "codemirror_mode": {
    "name": "ipython",
    "version": 3
   },
   "file_extension": ".py",
   "mimetype": "text/x-python",
   "name": "python",
   "nbconvert_exporter": "python",
   "pygments_lexer": "ipython3",
   "version": "3.12.7"
  }
 },
 "nbformat": 4,
 "nbformat_minor": 4
}
